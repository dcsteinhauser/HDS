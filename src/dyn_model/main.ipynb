{
 "cells": [
  {
   "cell_type": "code",
   "execution_count": 1,
   "metadata": {},
   "outputs": [],
   "source": [
    "from Train import train\n",
    "from DynamicsModel import model as DynamicsModel\n",
    "from env1.env1 import InvertedPendulum as env1\n",
    "import jax \n",
    "import jax.numpy as jnp\n",
    "from sklearn.model_selection import train_test_split\n",
    "import orbax.checkpoint as ocp\n",
    "import os \n"
   ]
  },
  {
   "cell_type": "code",
   "execution_count": 4,
   "metadata": {},
   "outputs": [
    {
     "name": "stdout",
     "output_type": "stream",
     "text": [
      "(1782000, 5) (1782000, 4)\n",
      "[[-4.402749   -3.3945      0.77425027 -3.7951906  -2.85725   ]\n",
      " [-4.3489575  -3.4808223   1.5320121  -1.6269966   2.1163223 ]\n",
      " [-4.2681317  -3.4908636   2.1815755   0.19445716  1.8793108 ]\n",
      " [-4.179244   -3.4706311   2.2353868   0.605529    0.08415771]\n",
      " [-4.108277   -3.4793782   1.6211463  -0.4862598  -1.9696319 ]\n",
      " [-4.024826   -3.4480648   2.2401025   1.1937723   1.8161194 ]\n",
      " [-3.933969   -3.3917592   2.2813146   1.4723125   0.07477856]\n",
      " [-3.8513706  -3.3486323   1.9925027   0.94445825 -0.9096937 ]\n",
      " [-3.7710836  -3.3058693   2.011596    1.1055242   0.0316143 ]\n",
      " [-3.7002308  -3.281488    1.6912901   0.44514883 -0.97768736]]\n"
     ]
    }
   ],
   "source": [
    "# Load Data:\n",
    "with jnp.load('Data/data.npz') as data:\n",
    "    X_data1 = data['observation_t']\n",
    "    X_data2 = data['action_t']\n",
    "    X_data = jnp.concatenate((X_data1, X_data2), axis=1)\n",
    "    y_data = data['observation_tp']\n",
    "    print(X_data.shape, y_data.shape)\n",
    "X_train, X_test, y_train, y_test = train_test_split(X_data, y_data, test_size=0.2, random_state=0)\n",
    "\n",
    "rng = jax.random.PRNGKey(0)"
   ]
  },
  {
   "cell_type": "code",
   "execution_count": 3,
   "metadata": {},
   "outputs": [
    {
     "name": "stdout",
     "output_type": "stream",
     "text": [
      "Epoch 0, Train Loss: 0.3950, Test Loss: 0.3945\n",
      "Epoch 10, Train Loss: 0.3662, Test Loss: 0.3655\n",
      "Epoch 20, Train Loss: 0.3658, Test Loss: 0.3651\n",
      "Epoch 30, Train Loss: 0.3654, Test Loss: 0.3647\n"
     ]
    },
    {
     "ename": "KeyboardInterrupt",
     "evalue": "",
     "output_type": "error",
     "traceback": [
      "\u001b[0;31m---------------------------------------------------------------------------\u001b[0m",
      "\u001b[0;31mKeyboardInterrupt\u001b[0m                         Traceback (most recent call last)",
      "Cell \u001b[0;32mIn[3], line 1\u001b[0m\n\u001b[0;32m----> 1\u001b[0m params \u001b[38;5;241m=\u001b[39m train(rng, X_train, y_train, X_test, y_test, observation_size \u001b[38;5;241m=\u001b[39m \u001b[38;5;241m4\u001b[39m,action_size \u001b[38;5;241m=\u001b[39m \u001b[38;5;241m1\u001b[39m, learning_rate\u001b[38;5;241m=\u001b[39m\u001b[38;5;241m0.001\u001b[39m, num_epochs\u001b[38;5;241m=\u001b[39m\u001b[38;5;241m200\u001b[39m, batch_size\u001b[38;5;241m=\u001b[39m\u001b[38;5;241m64\u001b[39m)\n",
      "File \u001b[0;32m~/Documents/ETH/Semester 6/RL/Project/HDS/src/dyn_model/Train.py:41\u001b[0m, in \u001b[0;36mtrain\u001b[0;34m(rng, X_train, y_train, X_test, y_test, observation_size, action_size, learning_rate, num_epochs, batch_size)\u001b[0m\n\u001b[1;32m     39\u001b[0m \u001b[38;5;28;01mfor\u001b[39;00m i \u001b[38;5;129;01min\u001b[39;00m \u001b[38;5;28mrange\u001b[39m(num_batches):\n\u001b[1;32m     40\u001b[0m     batch_idx \u001b[38;5;241m=\u001b[39m perm[i \u001b[38;5;241m*\u001b[39m batch_size:(i \u001b[38;5;241m+\u001b[39m \u001b[38;5;241m1\u001b[39m) \u001b[38;5;241m*\u001b[39m batch_size]\n\u001b[0;32m---> 41\u001b[0m     batch \u001b[38;5;241m=\u001b[39m {\u001b[38;5;124m'\u001b[39m\u001b[38;5;124mx\u001b[39m\u001b[38;5;124m'\u001b[39m: X_train_shuffled[batch_idx], \u001b[38;5;124m'\u001b[39m\u001b[38;5;124my\u001b[39m\u001b[38;5;124m'\u001b[39m: y_train_shuffled[batch_idx]}\n\u001b[1;32m     42\u001b[0m     state \u001b[38;5;241m=\u001b[39m train_step(state, batch)\n\u001b[1;32m     44\u001b[0m \u001b[38;5;28;01mif\u001b[39;00m epoch \u001b[38;5;241m%\u001b[39m \u001b[38;5;241m10\u001b[39m \u001b[38;5;241m==\u001b[39m \u001b[38;5;241m0\u001b[39m:\n",
      "File \u001b[0;32m~/anaconda3/envs/RLandML/lib/python3.11/site-packages/jax/_src/array.py:309\u001b[0m, in \u001b[0;36mArrayImpl.__getitem__\u001b[0;34m(self, idx)\u001b[0m\n\u001b[1;32m    306\u001b[0m   \u001b[38;5;28;01melse\u001b[39;00m:\n\u001b[1;32m    307\u001b[0m     \u001b[38;5;28;01mreturn\u001b[39;00m \u001b[38;5;28mformat\u001b[39m(\u001b[38;5;28mself\u001b[39m\u001b[38;5;241m.\u001b[39m_value, format_spec)\n\u001b[0;32m--> 309\u001b[0m \u001b[38;5;28;01mdef\u001b[39;00m \u001b[38;5;21m__getitem__\u001b[39m(\u001b[38;5;28mself\u001b[39m, idx):\n\u001b[1;32m    310\u001b[0m   \u001b[38;5;28;01mfrom\u001b[39;00m \u001b[38;5;21;01mjax\u001b[39;00m\u001b[38;5;21;01m.\u001b[39;00m\u001b[38;5;21;01m_src\u001b[39;00m\u001b[38;5;21;01m.\u001b[39;00m\u001b[38;5;21;01mlax\u001b[39;00m \u001b[38;5;28;01mimport\u001b[39;00m lax\n\u001b[1;32m    311\u001b[0m   \u001b[38;5;28;01mfrom\u001b[39;00m \u001b[38;5;21;01mjax\u001b[39;00m\u001b[38;5;21;01m.\u001b[39;00m\u001b[38;5;21;01m_src\u001b[39;00m\u001b[38;5;21;01m.\u001b[39;00m\u001b[38;5;21;01mnumpy\u001b[39;00m \u001b[38;5;28;01mimport\u001b[39;00m lax_numpy\n",
      "\u001b[0;31mKeyboardInterrupt\u001b[0m: "
     ]
    }
   ],
   "source": [
    "params = train(rng, X_train, y_train, X_test, y_test, observation_size = 4,action_size = 1, learning_rate=0.001, num_epochs=200, batch_size=64)"
   ]
  },
  {
   "cell_type": "code",
   "execution_count": null,
   "metadata": {},
   "outputs": [
    {
     "name": "stdout",
     "output_type": "stream",
     "text": [
      "11\n",
      "State(q=Array([-4.4427404, -3.2601416], dtype=float32), qd=Array([ 1.6889596, -1.9550669], dtype=float32), x=Transform(pos=Array([[-4.4427404,  0.       ,  0.       ],\n",
      "       [-4.4427404,  0.       ,  0.       ]], dtype=float32), rot=Array([[-1.        ,  0.        ,  0.        ,  0.        ],\n",
      "       [ 0.05923977,  0.        ,  0.9982438 , -0.        ]],      dtype=float32)), xd=Motion(ang=Array([[ 0.      ,  0.      ,  0.      ],\n",
      "       [ 0.      , -1.955067,  0.      ]], dtype=float32), vel=Array([[1.6889596, 0.       , 0.       ],\n",
      "       [1.6889596, 0.       , 0.       ]], dtype=float32)), contact=None, root_com=Array([[-4.431406  ,  0.        , -0.09653018],\n",
      "       [-4.431406  ,  0.        , -0.09653018]], dtype=float32), cinr=Inertia(transform=Transform(pos=Array([[-0.11869191,  0.        ,  1.0108616 ],\n",
      "       [ 0.11869382,  0.        , -1.0108615 ]], dtype=float32), rot=Array([[-0.70710677,  0.        , -0.70710677,  0.        ],\n",
      "       [ 0.9982928 ,  0.        , -0.05840788,  0.        ]],      dtype=float32)), i=Array([[[0.14574975, 0.        , 0.01145735],\n",
      "        [0.        , 0.22563484, 0.        ],\n",
      "        [0.01145735, 0.        , 0.12805618]],\n",
      "\n",
      "       [[0.38987434, 0.        , 0.04508474],\n",
      "        [0.        , 0.3951681 , 0.        ],\n",
      "        [0.04508474, 0.        , 0.01120026]]], dtype=float32), mass=Array([10.471975 ,  5.0185914], dtype=float32)), cd=Motion(ang=Array([[ 0.       ,  0.       ,  0.       ],\n",
      "       [ 0.       , -1.9550669,  0.       ]], dtype=float32), vel=Array([[1.6889596 , 0.        , 0.        ],\n",
      "       [1.8776826 , 0.        , 0.02215955]], dtype=float32)), cdof=Motion(ang=Array([[0., 0., 0.],\n",
      "       [0., 1., 0.]], dtype=float32), vel=Array([[ 1.        ,  0.        ,  0.        ],\n",
      "       [-0.09653018,  0.        , -0.01133442]], dtype=float32)), cdofd=Motion(ang=Array([[0., 0., 0.],\n",
      "       [0., 0., 0.]], dtype=float32), vel=Array([[0.       , 0.       , 0.       ],\n",
      "       [0.       , 0.       , 1.6889596]], dtype=float32)), mass_mx=Array([[15.490566 , -1.495307 ],\n",
      "       [-1.495307 ,  0.6404244]], dtype=float32), mass_mx_inv=Array([[0.08333874, 0.19458504],\n",
      "       [0.19458504, 2.0157952 ]], dtype=float32), con_jac=Array([[0., 0.],\n",
      "       [0., 0.]], dtype=float32), con_diag=Array([0., 0.], dtype=float32), con_aref=Array([0., 0.], dtype=float32), qf_smooth=Array([0., 0.], dtype=float32), qf_constraint=Array([0., 0.], dtype=float32), qdd=Array([0., 0.], dtype=float32))\n"
     ]
    },
    {
     "ename": "FrozenInstanceError",
     "evalue": "cannot assign to field 'q'",
     "output_type": "error",
     "traceback": [
      "\u001b[0;31m---------------------------------------------------------------------------\u001b[0m",
      "\u001b[0;31mFrozenInstanceError\u001b[0m                       Traceback (most recent call last)",
      "Cell \u001b[0;32mIn[7], line 7\u001b[0m\n\u001b[1;32m      5\u001b[0m State1 \u001b[38;5;241m=\u001b[39m env1\u001b[38;5;241m.\u001b[39mstep(State, \u001b[38;5;241m1.0\u001b[39m)\n\u001b[1;32m      6\u001b[0m \u001b[38;5;28mprint\u001b[39m(State\u001b[38;5;241m.\u001b[39mpipeline_state)\n\u001b[0;32m----> 7\u001b[0m State\u001b[38;5;241m.\u001b[39mpipeline_state\u001b[38;5;241m.\u001b[39mq \u001b[38;5;241m=\u001b[39m jnp\u001b[38;5;241m.\u001b[39marray([\u001b[38;5;241m0.0\u001b[39m,\u001b[38;5;241m0.0\u001b[39m],dtype\u001b[38;5;241m=\u001b[39mjnp\u001b[38;5;241m.\u001b[39mfloat32)\n",
      "File \u001b[0;32m<string>:4\u001b[0m, in \u001b[0;36m__setattr__\u001b[0;34m(self, name, value)\u001b[0m\n",
      "\u001b[0;31mFrozenInstanceError\u001b[0m: cannot assign to field 'q'"
     ]
    }
   ],
   "source": [
    "env1 = env1()\n",
    "key = jax.random.key(0)\n",
    "\n",
    "State = env1.reset(key)\n",
    "State1 = env1.step(State, 1.0)\n",
    "print(State.pipeline_state)\n",
    "State.pipeline_state.q = jnp.array([0.0,0.0],dtype=jnp.float32)\n",
    "# qqd = jnp.concatenate((jnp.expand_dims(State.pipeline_state.q,axis=1),jnp.expand_dims(State.pipeline_state.qd, axis=1)), axis=0)[:,0]\n",
    "# qqd10 = jnp.concatenate((jnp.expand_dims(State1.pipeline_state.q,axis=1),jnp.expand_dims(State1.pipeline_state.qd, axis=1)), axis=0)\n",
    "\n",
    "# model = DynamicsModel(4,5)\n",
    "# input = jnp.concatenate((qqd, jnp.array([1.0])), axis=0)\n",
    "# qqd11 = model.apply({\"params\":params}, input )\n",
    "\n"
   ]
  },
  {
   "cell_type": "code",
   "execution_count": null,
   "metadata": {},
   "outputs": [],
   "source": [
    "ckpt_dir = os.path.abspath('./params')\n",
    "checkpointer = ocp.AsyncCheckpointer(ocp.StandardCheckpointHandler())\n",
    "path = ocp.test_utils.erase_and_create_empty(ckpt_dir)\n",
    "checkpointer.save(path / str(1), args=ocp.args.StandardSave(params))\n"
   ]
  },
  {
   "cell_type": "code",
   "execution_count": null,
   "metadata": {},
   "outputs": [],
   "source": []
  }
 ],
 "metadata": {
  "kernelspec": {
   "display_name": "RLandML",
   "language": "python",
   "name": "python3"
  },
  "language_info": {
   "codemirror_mode": {
    "name": "ipython",
    "version": 3
   },
   "file_extension": ".py",
   "mimetype": "text/x-python",
   "name": "python",
   "nbconvert_exporter": "python",
   "pygments_lexer": "ipython3",
   "version": "3.11.8"
  }
 },
 "nbformat": 4,
 "nbformat_minor": 2
}
