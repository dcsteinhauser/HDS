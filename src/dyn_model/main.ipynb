{
 "cells": [
  {
   "cell_type": "code",
   "execution_count": 5,
   "metadata": {},
   "outputs": [],
   "source": [
    "from Train import train\n",
    "from DynamicsModel import model as DynamicsModel\n",
    "from env1.env1 import InvertedPendulum as env1\n",
    "from env2.env2 import InvertedPendulum as env2\n",
    "import jax \n",
    "import jax.numpy as jnp\n",
    "from sklearn.model_selection import train_test_split\n",
    "import orbax.checkpoint as ocp\n",
    "import os \n"
   ]
  },
  {
   "cell_type": "code",
   "execution_count": 6,
   "metadata": {},
   "outputs": [],
   "source": [
    "# Load Data:\n",
    "X_data1 = jnp.load('Data/statest.npy')\n",
    "X_data2 = jnp.load('Data/actions.npy')\n",
    "\n",
    "X_data = jnp.concatenate((X_data1, X_data2), axis=1)\n",
    "y_data = jnp.load('Data/statestp.npy')\n",
    "X_train, X_test, y_train, y_test = train_test_split(X_data, y_data, test_size=0.2, random_state=0)\n",
    "\n",
    "rng = jax.random.PRNGKey(0)"
   ]
  },
  {
   "cell_type": "code",
   "execution_count": 8,
   "metadata": {},
   "outputs": [
    {
     "name": "stdout",
     "output_type": "stream",
     "text": [
      "Epoch 0, Train Loss: 76.6121, Test Loss: 68.3532\n",
      "Epoch 10, Train Loss: 4.5359, Test Loss: 1.5068\n",
      "Epoch 20, Train Loss: 1.0776, Test Loss: 1.3087\n",
      "Epoch 30, Train Loss: 0.7698, Test Loss: 1.1606\n",
      "Epoch 40, Train Loss: 0.5982, Test Loss: 1.0225\n",
      "Epoch 50, Train Loss: 0.4162, Test Loss: 0.7942\n",
      "Epoch 60, Train Loss: 0.4019, Test Loss: 0.6866\n",
      "Epoch 70, Train Loss: 0.3219, Test Loss: 0.5658\n",
      "Epoch 80, Train Loss: 0.2734, Test Loss: 0.4934\n",
      "Epoch 90, Train Loss: 0.2649, Test Loss: 0.5164\n",
      "Epoch 100, Train Loss: 0.3480, Test Loss: 0.5911\n",
      "Epoch 110, Train Loss: 0.4014, Test Loss: 0.6170\n",
      "Epoch 120, Train Loss: 0.3628, Test Loss: 0.5375\n",
      "Epoch 130, Train Loss: 0.2698, Test Loss: 0.3924\n",
      "Epoch 140, Train Loss: 0.1259, Test Loss: 0.2323\n"
     ]
    }
   ],
   "source": [
    "params = train(rng, X_train, y_train, X_test, y_test, observation_size = 4,action_size = 1, learning_rate=0.001, num_epochs=150, batch_size=64)"
   ]
  },
  {
   "cell_type": "code",
   "execution_count": 7,
   "metadata": {},
   "outputs": [
    {
     "name": "stdout",
     "output_type": "stream",
     "text": [
      "11\n",
      "State(q=Array([-4.4427404, -3.2601416], dtype=float32), qd=Array([ 1.6889596, -1.9550669], dtype=float32), x=Transform(pos=Array([[-4.4427404,  0.       ,  0.       ],\n",
      "       [-4.4427404,  0.       ,  0.       ]], dtype=float32), rot=Array([[-1.        ,  0.        ,  0.        ,  0.        ],\n",
      "       [ 0.05923977,  0.        ,  0.9982438 , -0.        ]],      dtype=float32)), xd=Motion(ang=Array([[ 0.      ,  0.      ,  0.      ],\n",
      "       [ 0.      , -1.955067,  0.      ]], dtype=float32), vel=Array([[1.6889596, 0.       , 0.       ],\n",
      "       [1.6889596, 0.       , 0.       ]], dtype=float32)), contact=None, root_com=Array([[-4.431406  ,  0.        , -0.09653018],\n",
      "       [-4.431406  ,  0.        , -0.09653018]], dtype=float32), cinr=Inertia(transform=Transform(pos=Array([[-0.11869191,  0.        ,  1.0108616 ],\n",
      "       [ 0.11869382,  0.        , -1.0108615 ]], dtype=float32), rot=Array([[-0.70710677,  0.        , -0.70710677,  0.        ],\n",
      "       [ 0.9982928 ,  0.        , -0.05840788,  0.        ]],      dtype=float32)), i=Array([[[0.14574975, 0.        , 0.01145735],\n",
      "        [0.        , 0.22563484, 0.        ],\n",
      "        [0.01145735, 0.        , 0.12805618]],\n",
      "\n",
      "       [[0.38987434, 0.        , 0.04508474],\n",
      "        [0.        , 0.3951681 , 0.        ],\n",
      "        [0.04508474, 0.        , 0.01120026]]], dtype=float32), mass=Array([10.471975 ,  5.0185914], dtype=float32)), cd=Motion(ang=Array([[ 0.       ,  0.       ,  0.       ],\n",
      "       [ 0.       , -1.9550669,  0.       ]], dtype=float32), vel=Array([[1.6889596 , 0.        , 0.        ],\n",
      "       [1.8776826 , 0.        , 0.02215955]], dtype=float32)), cdof=Motion(ang=Array([[0., 0., 0.],\n",
      "       [0., 1., 0.]], dtype=float32), vel=Array([[ 1.        ,  0.        ,  0.        ],\n",
      "       [-0.09653018,  0.        , -0.01133442]], dtype=float32)), cdofd=Motion(ang=Array([[0., 0., 0.],\n",
      "       [0., 0., 0.]], dtype=float32), vel=Array([[0.       , 0.       , 0.       ],\n",
      "       [0.       , 0.       , 1.6889596]], dtype=float32)), mass_mx=Array([[15.490566 , -1.495307 ],\n",
      "       [-1.495307 ,  0.6404244]], dtype=float32), mass_mx_inv=Array([[0.08333874, 0.19458504],\n",
      "       [0.19458504, 2.0157952 ]], dtype=float32), con_jac=Array([[0., 0.],\n",
      "       [0., 0.]], dtype=float32), con_diag=Array([0., 0.], dtype=float32), con_aref=Array([0., 0.], dtype=float32), qf_smooth=Array([0., 0.], dtype=float32), qf_constraint=Array([0., 0.], dtype=float32), qdd=Array([0., 0.], dtype=float32))\n"
     ]
    },
    {
     "ename": "FrozenInstanceError",
     "evalue": "cannot assign to field 'q'",
     "output_type": "error",
     "traceback": [
      "\u001b[0;31m---------------------------------------------------------------------------\u001b[0m",
      "\u001b[0;31mFrozenInstanceError\u001b[0m                       Traceback (most recent call last)",
      "Cell \u001b[0;32mIn[7], line 7\u001b[0m\n\u001b[1;32m      5\u001b[0m State1 \u001b[38;5;241m=\u001b[39m env1\u001b[38;5;241m.\u001b[39mstep(State, \u001b[38;5;241m1.0\u001b[39m)\n\u001b[1;32m      6\u001b[0m \u001b[38;5;28mprint\u001b[39m(State\u001b[38;5;241m.\u001b[39mpipeline_state)\n\u001b[0;32m----> 7\u001b[0m State\u001b[38;5;241m.\u001b[39mpipeline_state\u001b[38;5;241m.\u001b[39mq \u001b[38;5;241m=\u001b[39m jnp\u001b[38;5;241m.\u001b[39marray([\u001b[38;5;241m0.0\u001b[39m,\u001b[38;5;241m0.0\u001b[39m],dtype\u001b[38;5;241m=\u001b[39mjnp\u001b[38;5;241m.\u001b[39mfloat32)\n",
      "File \u001b[0;32m<string>:4\u001b[0m, in \u001b[0;36m__setattr__\u001b[0;34m(self, name, value)\u001b[0m\n",
      "\u001b[0;31mFrozenInstanceError\u001b[0m: cannot assign to field 'q'"
     ]
    }
   ],
   "source": [
    "env1 = env1()\n",
    "key = jax.random.key(0)\n",
    "\n",
    "State = env1.reset(key)\n",
    "State1 = env1.step(State, 1.0)\n",
    "print(State.pipeline_state)\n",
    "State.pipeline_state.q = jnp.array([0.0,0.0],dtype=jnp.float32)\n",
    "# qqd = jnp.concatenate((jnp.expand_dims(State.pipeline_state.q,axis=1),jnp.expand_dims(State.pipeline_state.qd, axis=1)), axis=0)[:,0]\n",
    "# qqd10 = jnp.concatenate((jnp.expand_dims(State1.pipeline_state.q,axis=1),jnp.expand_dims(State1.pipeline_state.qd, axis=1)), axis=0)\n",
    "\n",
    "# model = DynamicsModel(4,5)\n",
    "# input = jnp.concatenate((qqd, jnp.array([1.0])), axis=0)\n",
    "# qqd11 = model.apply({\"params\":params}, input )\n",
    "\n"
   ]
  },
  {
   "cell_type": "code",
   "execution_count": 12,
   "metadata": {},
   "outputs": [],
   "source": [
    "ckpt_dir = os.path.abspath('./params')\n",
    "checkpointer = ocp.AsyncCheckpointer(ocp.StandardCheckpointHandler())\n",
    "path = ocp.test_utils.erase_and_create_empty(ckpt_dir)\n",
    "checkpointer.save(path / str(1), args=ocp.args.StandardSave(params))\n"
   ]
  },
  {
   "cell_type": "code",
   "execution_count": null,
   "metadata": {},
   "outputs": [],
   "source": []
  }
 ],
 "metadata": {
  "kernelspec": {
   "display_name": "RLandML",
   "language": "python",
   "name": "python3"
  },
  "language_info": {
   "codemirror_mode": {
    "name": "ipython",
    "version": 3
   },
   "file_extension": ".py",
   "mimetype": "text/x-python",
   "name": "python",
   "nbconvert_exporter": "python",
   "pygments_lexer": "ipython3",
   "version": "3.11.8"
  }
 },
 "nbformat": 4,
 "nbformat_minor": 2
}
