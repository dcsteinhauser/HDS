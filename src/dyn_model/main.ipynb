{
 "cells": [
  {
   "cell_type": "code",
   "execution_count": 8,
   "metadata": {},
   "outputs": [],
   "source": [
    "from Train import train\n",
    "from DynamicsModel import model as DynamicsModel\n",
    "from env1.env1 import InvertedPendulum as env1\n",
    "from env2.env2 import InvertedPendulum as env2\n",
    "import jax \n",
    "import jax.numpy as jnp\n",
    "from sklearn.model_selection import train_test_split\n"
   ]
  },
  {
   "cell_type": "code",
   "execution_count": 2,
   "metadata": {},
   "outputs": [],
   "source": [
    "# Load Data:\n",
    "X_data1 = jnp.load('Data/statest.npy')\n",
    "X_data2 = jnp.load('Data/actions.npy')\n",
    "\n",
    "X_data = jnp.concatenate((X_data1, X_data2), axis=1)\n",
    "y_data = jnp.load('Data/statestp.npy')\n",
    "X_train, X_test, y_train, y_test = train_test_split(X_data, y_data, test_size=0.2, random_state=0)\n",
    "\n",
    "rng = jax.random.PRNGKey(0)"
   ]
  },
  {
   "cell_type": "code",
   "execution_count": 3,
   "metadata": {},
   "outputs": [
    {
     "name": "stdout",
     "output_type": "stream",
     "text": [
      "Epoch 0, Train Loss: 76.6121, Test Loss: 68.3532\n",
      "Epoch 10, Train Loss: 4.5359, Test Loss: 1.5068\n",
      "Epoch 20, Train Loss: 1.0776, Test Loss: 1.3087\n",
      "Epoch 30, Train Loss: 0.7698, Test Loss: 1.1606\n",
      "Epoch 40, Train Loss: 0.5982, Test Loss: 1.0225\n",
      "Epoch 50, Train Loss: 0.4162, Test Loss: 0.7942\n",
      "Epoch 60, Train Loss: 0.4019, Test Loss: 0.6866\n",
      "Epoch 70, Train Loss: 0.3219, Test Loss: 0.5658\n",
      "Epoch 80, Train Loss: 0.2734, Test Loss: 0.4934\n",
      "Epoch 90, Train Loss: 0.2649, Test Loss: 0.5164\n"
     ]
    }
   ],
   "source": [
    "params = train(rng, X_train, y_train, X_test, y_test, observation_size = 4,action_size = 1, learning_rate=0.001, num_epochs=100, batch_size=64)"
   ]
  },
  {
   "cell_type": "code",
   "execution_count": 9,
   "metadata": {},
   "outputs": [
    {
     "name": "stdout",
     "output_type": "stream",
     "text": [
      "11\n",
      "[[-4.364456 ]\n",
      " [-3.306514 ]\n",
      " [ 2.0459676]\n",
      " [-0.8970223]] [-4.0854964 -3.108387   1.1106935 -1.363312 ]\n"
     ]
    }
   ],
   "source": [
    "env1 = env1()\n",
    "key = jax.random.key(0)\n",
    "\n",
    "State = env1.reset(key)\n",
    "State1 = env1.step(State, 1.0)\n",
    "\n",
    "qqd = jnp.concatenate((jnp.expand_dims(State.pipeline_state.q,axis=1),jnp.expand_dims(State.pipeline_state.qd, axis=1)), axis=0)[:,0]\n",
    "qqd10 = jnp.concatenate((jnp.expand_dims(State1.pipeline_state.q,axis=1),jnp.expand_dims(State1.pipeline_state.qd, axis=1)), axis=0)\n",
    "\n",
    "model = DynamicsModel(4,5)\n",
    "input = jnp.concatenate((qqd, jnp.array([1.0])), axis=0)\n",
    "qqd11 = model.apply({\"params\":params}, input )\n",
    "\n",
    "print(qqd10,qqd11)\n"
   ]
  }
 ],
 "metadata": {
  "kernelspec": {
   "display_name": "RLandML",
   "language": "python",
   "name": "python3"
  },
  "language_info": {
   "codemirror_mode": {
    "name": "ipython",
    "version": 3
   },
   "file_extension": ".py",
   "mimetype": "text/x-python",
   "name": "python",
   "nbconvert_exporter": "python",
   "pygments_lexer": "ipython3",
   "version": "3.11.8"
  }
 },
 "nbformat": 4,
 "nbformat_minor": 2
}
