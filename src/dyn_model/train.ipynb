{
 "cells": [
  {
   "cell_type": "code",
   "execution_count": 1,
   "metadata": {},
   "outputs": [],
   "source": [
    "from Train import train\n",
    "from DynamicsModel import model as DynamicsModel\n",
    "from env1.Pendulum import Pendulum as env1\n",
    "import jax \n",
    "import jax.numpy as jnp\n",
    "from sklearn.model_selection import train_test_split\n",
    "import orbax.checkpoint as ocp\n",
    "import os \n"
   ]
  },
  {
   "cell_type": "code",
   "execution_count": 2,
   "metadata": {},
   "outputs": [
    {
     "name": "stdout",
     "output_type": "stream",
     "text": [
      "(1782000, 5) (1782000, 4)\n",
      "[[ 4.9494696   2.7237606   1.7805529   0.68680406 -0.9269727 ]\n",
      " [ 5.012753    2.744014    1.5158426   0.4451526  -0.89220834]\n",
      " [ 5.0657682   2.7551312   1.2619146   0.22220194 -0.8692082 ]\n",
      " [ 5.108873    2.7579658   1.0163066   0.02130936 -0.8460146 ]\n",
      " [ 5.142433    2.7536917   0.7801123  -0.14801113 -0.82660663]\n",
      " [ 5.1668115   2.7436981   0.55281645 -0.28176498 -0.80512494]\n",
      " [ 5.182396    2.7295787   0.3354695  -0.37448558 -0.78440076]\n",
      " [ 5.1895795   2.713002    0.12788771 -0.4254818  -0.7576858 ]\n",
      " [ 5.1888046   2.6957269  -0.06824264 -0.43198076 -0.7322167 ]\n",
      " [ 5.180503    2.6793983  -0.25379708 -0.39864138 -0.70209825]] [[ 5.012753    2.744014    1.5158426   0.4451526 ]\n",
      " [ 5.0657682   2.7551312   1.2619146   0.22220194]\n",
      " [ 5.108873    2.7579658   1.0163066   0.02130936]\n",
      " [ 5.142433    2.7536917   0.7801123  -0.14801113]\n",
      " [ 5.1668115   2.7436981   0.55281645 -0.28176498]\n",
      " [ 5.182396    2.7295787   0.3354695  -0.37448558]\n",
      " [ 5.1895795   2.713002    0.12788771 -0.4254818 ]\n",
      " [ 5.1888046   2.6957269  -0.06824264 -0.43198076]\n",
      " [ 5.180503    2.6793983  -0.25379708 -0.39864138]\n",
      " [ 5.1651235   2.6655426  -0.4279192  -0.32783917]]\n"
     ]
    }
   ],
   "source": [
    "# Load Data:\n",
    "with jnp.load('Data/data_pods.npz') as data:\n",
    "    X_data1 = data['states_t']\n",
    "    X_data2 = data['action_t']\n",
    "    X_data = jnp.concatenate((X_data1, X_data2), axis=1)\n",
    "    y_data = data['states_tp']\n",
    "    print(X_data.shape, y_data.shape)\n",
    "X_train, X_test, y_train, y_test = train_test_split(X_data, y_data, test_size=0.2, random_state=0)\n",
    "print(X_data[:10,:], y_data[:10,:])\n",
    "rng = jax.random.PRNGKey(0)"
   ]
  },
  {
   "cell_type": "code",
   "execution_count": 3,
   "metadata": {},
   "outputs": [
    {
     "name": "stdout",
     "output_type": "stream",
     "text": [
      "0\n",
      "Epoch 0, Train Loss: 0.0016, Test Loss: 0.0016\n",
      "1\n",
      "Epoch 1, Train Loss: 0.0007, Test Loss: 0.0007\n",
      "2\n",
      "Epoch 2, Train Loss: 0.0005, Test Loss: 0.0005\n",
      "3\n",
      "Epoch 3, Train Loss: 0.0004, Test Loss: 0.0004\n",
      "4\n",
      "Epoch 4, Train Loss: 0.0003, Test Loss: 0.0003\n",
      "5\n",
      "Epoch 5, Train Loss: 0.0003, Test Loss: 0.0003\n",
      "6\n",
      "Epoch 6, Train Loss: 0.0004, Test Loss: 0.0004\n",
      "7\n",
      "Epoch 7, Train Loss: 0.0003, Test Loss: 0.0003\n",
      "8\n",
      "Epoch 8, Train Loss: 0.0003, Test Loss: 0.0003\n",
      "9\n",
      "Epoch 9, Train Loss: 0.0003, Test Loss: 0.0003\n",
      "10\n",
      "Epoch 10, Train Loss: 0.0003, Test Loss: 0.0003\n",
      "11\n",
      "Epoch 11, Train Loss: 0.0003, Test Loss: 0.0003\n",
      "12\n",
      "Epoch 12, Train Loss: 0.0003, Test Loss: 0.0003\n",
      "13\n",
      "Epoch 13, Train Loss: 0.0002, Test Loss: 0.0002\n",
      "14\n",
      "Epoch 14, Train Loss: 0.0002, Test Loss: 0.0002\n",
      "15\n",
      "Epoch 15, Train Loss: 0.0002, Test Loss: 0.0002\n",
      "16\n",
      "Epoch 16, Train Loss: 0.0003, Test Loss: 0.0003\n",
      "17\n",
      "Epoch 17, Train Loss: 0.0003, Test Loss: 0.0003\n",
      "18\n",
      "Epoch 18, Train Loss: 0.0002, Test Loss: 0.0002\n",
      "19\n",
      "Epoch 19, Train Loss: 0.0002, Test Loss: 0.0002\n",
      "20\n",
      "Epoch 20, Train Loss: 0.0002, Test Loss: 0.0002\n",
      "21\n",
      "Epoch 21, Train Loss: 0.0003, Test Loss: 0.0003\n",
      "22\n",
      "Epoch 22, Train Loss: 0.0002, Test Loss: 0.0002\n",
      "23\n",
      "Epoch 23, Train Loss: 0.0002, Test Loss: 0.0002\n",
      "24\n",
      "Epoch 24, Train Loss: 0.0002, Test Loss: 0.0002\n",
      "25\n",
      "Epoch 25, Train Loss: 0.0002, Test Loss: 0.0002\n",
      "26\n",
      "Epoch 26, Train Loss: 0.0001, Test Loss: 0.0001\n",
      "27\n",
      "Epoch 27, Train Loss: 0.0001, Test Loss: 0.0001\n",
      "28\n",
      "Epoch 28, Train Loss: 0.0001, Test Loss: 0.0001\n",
      "29\n",
      "Epoch 29, Train Loss: 0.0001, Test Loss: 0.0001\n"
     ]
    }
   ],
   "source": [
    "params = train(rng, X_train, y_train, X_test, y_test, observation_size = 4,action_size = 1, learning_rate=0.001, num_epochs=30, batch_size=64)"
   ]
  },
  {
   "cell_type": "code",
   "execution_count": 4,
   "metadata": {},
   "outputs": [
    {
     "name": "stdout",
     "output_type": "stream",
     "text": [
      "11\n",
      "[[-4.364456 ]\n",
      " [-3.306514 ]\n",
      " [ 2.0459676]\n",
      " [-0.8970223]] [-4.3660116 -3.3631048  2.0354965 -0.9495645]\n"
     ]
    }
   ],
   "source": [
    "from env1.Pendulum import Pendulum as env1\n",
    "\n",
    "env1 = env1()\n",
    "key = jax.random.key(0)\n",
    "\n",
    "State = env1.reset(key)\n",
    "State1 = env1.step(State, 1.0)\n",
    "#print(State.pipeline_state)\n",
    "#State.pipeline_state.q = jnp.array([0.0,0.0],dtype=jnp.float32)\n",
    "qqd = jnp.concatenate((jnp.expand_dims(State.pipeline_state.q,axis=1),jnp.expand_dims(State.pipeline_state.qd, axis=1)), axis=0)[:,0]\n",
    "qqd10 = jnp.concatenate((jnp.expand_dims(State1.pipeline_state.q,axis=1),jnp.expand_dims(State1.pipeline_state.qd, axis=1)), axis=0)\n",
    "\n",
    "model = DynamicsModel(4,5)\n",
    "input = jnp.concatenate((qqd, jnp.array([1.0])), axis=0)\n",
    "qqd11 = model.apply({\"params\":params}, input )\n",
    "print(qqd10, qqd11)\n",
    "\n"
   ]
  },
  {
   "cell_type": "code",
   "execution_count": 6,
   "metadata": {},
   "outputs": [],
   "source": [
    "ckpt_dir = os.path.abspath('./params')\n",
    "checkpointer = ocp.AsyncCheckpointer(ocp.StandardCheckpointHandler())\n",
    "path = ocp.test_utils.erase_and_create_empty(ckpt_dir)\n",
    "checkpointer.save(path / str(1), args=ocp.args.StandardSave(params))\n"
   ]
  },
  {
   "cell_type": "code",
   "execution_count": null,
   "metadata": {},
   "outputs": [],
   "source": []
  }
 ],
 "metadata": {
  "kernelspec": {
   "display_name": "RLandML",
   "language": "python",
   "name": "python3"
  },
  "language_info": {
   "codemirror_mode": {
    "name": "ipython",
    "version": 3
   },
   "file_extension": ".py",
   "mimetype": "text/x-python",
   "name": "python",
   "nbconvert_exporter": "python",
   "pygments_lexer": "ipython3",
   "version": "3.11.8"
  }
 },
 "nbformat": 4,
 "nbformat_minor": 2
}
