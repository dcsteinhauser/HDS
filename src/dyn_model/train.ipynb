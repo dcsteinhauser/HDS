{
 "cells": [
  {
   "cell_type": "code",
   "execution_count": 1,
   "metadata": {},
   "outputs": [
    {
     "ename": "ModuleNotFoundError",
     "evalue": "No module named 'env1.env1'",
     "output_type": "error",
     "traceback": [
      "\u001b[0;31m---------------------------------------------------------------------------\u001b[0m",
      "\u001b[0;31mModuleNotFoundError\u001b[0m                       Traceback (most recent call last)",
      "Cell \u001b[0;32mIn[1], line 3\u001b[0m\n\u001b[1;32m      1\u001b[0m \u001b[38;5;28;01mfrom\u001b[39;00m \u001b[38;5;21;01mTrain\u001b[39;00m \u001b[38;5;28;01mimport\u001b[39;00m train\n\u001b[1;32m      2\u001b[0m \u001b[38;5;28;01mfrom\u001b[39;00m \u001b[38;5;21;01mDynamicsModel\u001b[39;00m \u001b[38;5;28;01mimport\u001b[39;00m model \u001b[38;5;28;01mas\u001b[39;00m DynamicsModel\n\u001b[0;32m----> 3\u001b[0m \u001b[38;5;28;01mfrom\u001b[39;00m \u001b[38;5;21;01menv1\u001b[39;00m\u001b[38;5;21;01m.\u001b[39;00m\u001b[38;5;21;01menv1\u001b[39;00m \u001b[38;5;28;01mimport\u001b[39;00m InvertedPendulum \u001b[38;5;28;01mas\u001b[39;00m env1\n\u001b[1;32m      4\u001b[0m \u001b[38;5;28;01mimport\u001b[39;00m \u001b[38;5;21;01mjax\u001b[39;00m \n\u001b[1;32m      5\u001b[0m \u001b[38;5;28;01mimport\u001b[39;00m \u001b[38;5;21;01mjax\u001b[39;00m\u001b[38;5;21;01m.\u001b[39;00m\u001b[38;5;21;01mnumpy\u001b[39;00m \u001b[38;5;28;01mas\u001b[39;00m \u001b[38;5;21;01mjnp\u001b[39;00m\n",
      "\u001b[0;31mModuleNotFoundError\u001b[0m: No module named 'env1.env1'"
     ]
    }
   ],
   "source": [
    "from Train import train\n",
    "from DynamicsModel import model as DynamicsModel\n",
    "from env1.RealisticPendulum import RealisticPendulum as env1\n",
    "import jax \n",
    "import jax.numpy as jnp\n",
    "from sklearn.model_selection import train_test_split\n",
    "import orbax.checkpoint as ocp\n",
    "import os \n"
   ]
  },
  {
   "cell_type": "code",
   "execution_count": null,
   "metadata": {},
   "outputs": [
    {
     "name": "stdout",
     "output_type": "stream",
     "text": [
      "(1782000, 5) (1782000, 4)\n",
      "[[-4.402749   -3.3945      0.77425027 -3.7951906  -2.85725   ]\n",
      " [-4.3489575  -3.4808223   1.5320121  -1.6269966   2.1163223 ]\n",
      " [-4.2681317  -3.4908636   2.1815755   0.19445716  1.8793108 ]\n",
      " [-4.179244   -3.4706311   2.2353868   0.605529    0.08415771]\n",
      " [-4.108277   -3.4793782   1.6211463  -0.4862598  -1.9696319 ]\n",
      " [-4.024826   -3.4480648   2.2401025   1.1937723   1.8161194 ]\n",
      " [-3.933969   -3.3917592   2.2813146   1.4723125   0.07477856]\n",
      " [-3.8513706  -3.3486323   1.9925027   0.94445825 -0.9096937 ]\n",
      " [-3.7710836  -3.3058693   2.011596    1.1055242   0.0316143 ]\n",
      " [-3.7002308  -3.281488    1.6912901   0.44514883 -0.97768736]] [[-4.3489575  -3.4808223   1.5320121  -1.6269966 ]\n",
      " [-4.2681317  -3.4908636   2.1815755   0.19445716]\n",
      " [-4.179244   -3.4706311   2.2353868   0.605529  ]\n",
      " [-4.108277   -3.4793782   1.6211463  -0.4862598 ]\n",
      " [-4.024826   -3.4480648   2.2401025   1.1937723 ]\n",
      " [-3.933969   -3.3917592   2.2813146   1.4723125 ]\n",
      " [-3.8513706  -3.3486323   1.9925027   0.94445825]\n",
      " [-3.7710836  -3.3058693   2.011596    1.1055242 ]\n",
      " [-3.7002308  -3.281488    1.6912901   0.44514883]\n",
      " [-3.6557248  -3.3139694   0.92132133 -1.2170368 ]]\n"
     ]
    }
   ],
   "source": [
    "# Load Data:\n",
    "with jnp.load('Data/data.npz') as data:\n",
    "    X_data1 = data['observation_t']\n",
    "    X_data2 = data['action_t']\n",
    "    X_data = jnp.concatenate((X_data1, X_data2), axis=1)\n",
    "    y_data = data['observation_tp']\n",
    "    print(X_data.shape, y_data.shape)\n",
    "X_train, X_test, y_train, y_test = train_test_split(X_data, y_data, test_size=0.2, random_state=0)\n",
    "print(X_data[:10,:], y_data[:10,:])\n",
    "rng = jax.random.PRNGKey(0)"
   ]
  },
  {
   "cell_type": "code",
   "execution_count": null,
   "metadata": {},
   "outputs": [
    {
     "name": "stdout",
     "output_type": "stream",
     "text": [
      "Epoch 0, Train Loss: 0.4437, Test Loss: 0.4431\n",
      "Epoch 10, Train Loss: 0.3617, Test Loss: 0.3610\n",
      "Epoch 20, Train Loss: 0.3609, Test Loss: 0.3603\n",
      "Epoch 30, Train Loss: 0.3611, Test Loss: 0.3606\n"
     ]
    }
   ],
   "source": [
    "params = train(rng, X_train, y_train, X_test, y_test, observation_size = 4,action_size = 1, learning_rate=0.0001, num_epochs=100, batch_size=64)"
   ]
  },
  {
   "cell_type": "code",
   "execution_count": null,
   "metadata": {},
   "outputs": [
    {
     "name": "stdout",
     "output_type": "stream",
     "text": [
      "11\n",
      "[[-4.364456 ]\n",
      " [-3.306514 ]\n",
      " [ 2.0459676]\n",
      " [-0.8970223]] [-4.3654413 -3.3330982  1.7228411 -1.5903403]\n"
     ]
    }
   ],
   "source": [
    "from env1.env1 import InvertedPendulum as env1\n",
    "\n",
    "env1 = env1()\n",
    "key = jax.random.key(0)\n",
    "\n",
    "State = env1.reset(key)\n",
    "State1 = env1.step(State, 1.0)\n",
    "#print(State.pipeline_state)\n",
    "#State.pipeline_state.q = jnp.array([0.0,0.0],dtype=jnp.float32)\n",
    "qqd = jnp.concatenate((jnp.expand_dims(State.pipeline_state.q,axis=1),jnp.expand_dims(State.pipeline_state.qd, axis=1)), axis=0)[:,0]\n",
    "qqd10 = jnp.concatenate((jnp.expand_dims(State1.pipeline_state.q,axis=1),jnp.expand_dims(State1.pipeline_state.qd, axis=1)), axis=0)\n",
    "\n",
    "model = DynamicsModel(4,5)\n",
    "input = jnp.concatenate((qqd, jnp.array([1.0])), axis=0)\n",
    "qqd11 = model.apply({\"params\":params}, input )\n",
    "print(qqd10, qqd11)\n",
    "\n"
   ]
  },
  {
   "cell_type": "code",
   "execution_count": null,
   "metadata": {},
   "outputs": [],
   "source": [
    "ckpt_dir = os.path.abspath('./params')\n",
    "checkpointer = ocp.AsyncCheckpointer(ocp.StandardCheckpointHandler())\n",
    "path = ocp.test_utils.erase_and_create_empty(ckpt_dir)\n",
    "checkpointer.save(path / str(1), args=ocp.args.StandardSave(params))\n"
   ]
  },
  {
   "cell_type": "code",
   "execution_count": null,
   "metadata": {},
   "outputs": [],
   "source": []
  }
 ],
 "metadata": {
  "kernelspec": {
   "display_name": "RLandML",
   "language": "python",
   "name": "python3"
  },
  "language_info": {
   "codemirror_mode": {
    "name": "ipython",
    "version": 3
   },
   "file_extension": ".py",
   "mimetype": "text/x-python",
   "name": "python",
   "nbconvert_exporter": "python",
   "pygments_lexer": "ipython3",
   "version": "3.11.8"
  }
 },
 "nbformat": 4,
 "nbformat_minor": 2
}
