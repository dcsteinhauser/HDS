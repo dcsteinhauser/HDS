{
 "cells": [
  {
   "cell_type": "code",
   "execution_count": 2,
   "metadata": {},
   "outputs": [],
   "source": [
    "from Train import train\n",
    "from DynamicsModel import model as DynamicsModel\n",
    "from env1.RealisticPendulum import RealisticPendulum as env1\n",
    "import jax \n",
    "import jax.numpy as jnp\n",
    "from sklearn.model_selection import train_test_split\n",
    "import orbax.checkpoint as ocp\n",
    "import os \n"
   ]
  },
  {
   "cell_type": "code",
   "execution_count": 3,
   "metadata": {},
   "outputs": [
    {
     "name": "stdout",
     "output_type": "stream",
     "text": [
      "(1782000, 5) (1782000, 4)\n",
      "[[-4.4167123  -3.4106708   0.3245155  -4.3028955  -2.85725   ]\n",
      " [-4.3906307  -3.5248356   0.75463617 -2.3850248   2.1163223 ]\n",
      " [-4.3518276  -3.5722234   1.0373462  -0.7954778   1.8793108 ]\n",
      " [-4.319883   -3.5952773   0.7226013  -0.49457547  0.08415771]\n",
      " [-4.3183722  -3.643409   -0.17949304 -1.4100746  -1.9696319 ]\n",
      " [-4.314437   -3.6466212   0.18593678  0.34977925  1.8161194 ]\n",
      " [-4.313418   -3.6165287  -0.02583007  0.88862765  0.07477856]\n",
      " [-4.3292494  -3.5834537  -0.514141    0.81375325 -0.9096937 ]\n",
      " [-4.354113   -3.5321815  -0.65593374  1.437035    0.0316143 ]\n",
      " [-4.393692   -3.4772806  -1.0963553   1.3554939  -0.97768736]] [[-4.3906307  -3.5248356   0.75463617 -2.3850248 ]\n",
      " [-4.3518276  -3.5722234   1.0373462  -0.7954778 ]\n",
      " [-4.319883   -3.5952773   0.7226013  -0.49457547]\n",
      " [-4.3183722  -3.643409   -0.17949304 -1.4100746 ]\n",
      " [-4.314437   -3.6466212   0.18593678  0.34977925]\n",
      " [-4.313418   -3.6165287  -0.02583007  0.88862765]\n",
      " [-4.3292494  -3.5834537  -0.514141    0.81375325]\n",
      " [-4.354113   -3.5321815  -0.65593374  1.437035  ]\n",
      " [-4.393692   -3.4772806  -1.0963553   1.3554939 ]\n",
      " [-4.46245    -3.452964   -1.9178294   0.37529525]]\n"
     ]
    }
   ],
   "source": [
    "# Load Data:\n",
    "with jnp.load('Data/data.npz') as data:\n",
    "    X_data1 = data['observation_t']\n",
    "    X_data2 = data['action_t']\n",
    "    X_data = jnp.concatenate((X_data1, X_data2), axis=1)\n",
    "    y_data = data['observation_tp']\n",
    "    print(X_data.shape, y_data.shape)\n",
    "X_train, X_test, y_train, y_test = train_test_split(X_data, y_data, test_size=0.2, random_state=0)\n",
    "print(X_data[:10,:], y_data[:10,:])\n",
    "rng = jax.random.PRNGKey(0)"
   ]
  },
  {
   "cell_type": "code",
   "execution_count": 4,
   "metadata": {},
   "outputs": [
    {
     "name": "stdout",
     "output_type": "stream",
     "text": [
      "Epoch 0, Train Loss: 0.8081, Test Loss: 0.8124\n",
      "Epoch 10, Train Loss: 0.4502, Test Loss: 0.4490\n",
      "Epoch 20, Train Loss: 0.4122, Test Loss: 0.4114\n",
      "Epoch 30, Train Loss: 0.4238, Test Loss: 0.4225\n",
      "Epoch 40, Train Loss: 0.4156, Test Loss: 0.4152\n",
      "Epoch 50, Train Loss: 0.4152, Test Loss: 0.4154\n",
      "Epoch 60, Train Loss: 0.3943, Test Loss: 0.3950\n",
      "Epoch 70, Train Loss: 0.3714, Test Loss: 0.3724\n",
      "Epoch 80, Train Loss: 0.3762, Test Loss: 0.3779\n",
      "Epoch 90, Train Loss: 0.3656, Test Loss: 0.3674\n"
     ]
    }
   ],
   "source": [
    "params = train(rng, X_train, y_train, X_test, y_test, observation_size = 4,action_size = 1, learning_rate=0.0001, num_epochs=100, batch_size=64)"
   ]
  },
  {
   "cell_type": "code",
   "execution_count": 5,
   "metadata": {},
   "outputs": [
    {
     "name": "stdout",
     "output_type": "stream",
     "text": [
      "11\n",
      "[[-4.3792067]\n",
      " [-3.3238752]\n",
      " [ 1.5568799]\n",
      " [-1.4642515]] [-4.4399147 -3.260322   1.3311983 -2.1098776]\n"
     ]
    }
   ],
   "source": [
    "from env1.RealisticPendulum import RealisticPendulum as env1\n",
    "\n",
    "env1 = env1()\n",
    "key = jax.random.key(0)\n",
    "\n",
    "State = env1.reset(key)\n",
    "State1 = env1.step(State, 1.0)\n",
    "#print(State.pipeline_state)\n",
    "#State.pipeline_state.q = jnp.array([0.0,0.0],dtype=jnp.float32)\n",
    "qqd = jnp.concatenate((jnp.expand_dims(State.pipeline_state.q,axis=1),jnp.expand_dims(State.pipeline_state.qd, axis=1)), axis=0)[:,0]\n",
    "qqd10 = jnp.concatenate((jnp.expand_dims(State1.pipeline_state.q,axis=1),jnp.expand_dims(State1.pipeline_state.qd, axis=1)), axis=0)\n",
    "\n",
    "model = DynamicsModel(4,5)\n",
    "input = jnp.concatenate((qqd, jnp.array([1.0])), axis=0)\n",
    "qqd11 = model.apply({\"params\":params}, input )\n",
    "print(qqd10, qqd11)\n",
    "\n"
   ]
  },
  {
   "cell_type": "code",
   "execution_count": 6,
   "metadata": {},
   "outputs": [],
   "source": [
    "ckpt_dir = os.path.abspath('./params')\n",
    "checkpointer = ocp.AsyncCheckpointer(ocp.StandardCheckpointHandler())\n",
    "path = ocp.test_utils.erase_and_create_empty(ckpt_dir)\n",
    "checkpointer.save(path / str(1), args=ocp.args.StandardSave(params))\n"
   ]
  },
  {
   "cell_type": "code",
   "execution_count": null,
   "metadata": {},
   "outputs": [],
   "source": []
  }
 ],
 "metadata": {
  "kernelspec": {
   "display_name": "RLandML",
   "language": "python",
   "name": "python3"
  },
  "language_info": {
   "codemirror_mode": {
    "name": "ipython",
    "version": 3
   },
   "file_extension": ".py",
   "mimetype": "text/x-python",
   "name": "python",
   "nbconvert_exporter": "python",
   "pygments_lexer": "ipython3",
   "version": "3.11.8"
  }
 },
 "nbformat": 4,
 "nbformat_minor": 2
}
