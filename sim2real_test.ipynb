{
 "cells": [
  {
   "cell_type": "code",
   "execution_count": 1,
   "metadata": {},
   "outputs": [
    {
     "name": "stderr",
     "output_type": "stream",
     "text": [
      "WARNING:absl:Tensorflow library not found, tensorflow.io.gfile operations will use native shim calls. GCS paths (i.e. 'gs://...') cannot be accessed.\n"
     ]
    }
   ],
   "source": [
    "from functools import partial\n",
    "import jax\n",
    "import os\n",
    "import html\n",
    "import numpy as np\n",
    "\n",
    "from datetime import datetime\n",
    "from jax import numpy as jp\n",
    "jax.config.update(\"jax_debug_nans\", False)\n",
    "jax.config.update(\"jax_enable_x64\", True)\n",
    "import matplotlib.pyplot as plt\n",
    "\n",
    "from IPython.display import HTML, clear_output, display\n",
    "from brax.io import html\n",
    "\n",
    "import shutil\n",
    "\n",
    "from src.pods.Pods import train as train_pods\n",
    "from src.hds.Hds import train as train_hds\n",
    "from src.envs.original import Pendulum \n",
    "from src.envs.realistic import RealisticPendulum \n",
    "from src.dyn_model.Predict import pretrained_params\n",
    "\n",
    "\n"
   ]
  },
  {
   "cell_type": "code",
   "execution_count": 2,
   "metadata": {},
   "outputs": [
    {
     "name": "stdout",
     "output_type": "stream",
     "text": [
      "cpu\n",
      "[CpuDevice(id=0)]\n"
     ]
    }
   ],
   "source": [
    "from jax.lib import xla_bridge\n",
    "print(xla_bridge.get_backend().platform)\n",
    "print(jax.devices())"
   ]
  },
  {
   "cell_type": "code",
   "execution_count": 3,
   "metadata": {},
   "outputs": [],
   "source": [
    "env = Pendulum.Pendulum()\n",
    "state = jax.jit(env.reset)(rng=jax.random.PRNGKey(seed=0))\n",
    "\n",
    "#HTML(html.render(env.sys, [state.pipeline_state]))"
   ]
  },
  {
   "cell_type": "code",
   "execution_count": 4,
   "metadata": {},
   "outputs": [],
   "source": [
    "ckpt_dir = './tmp/flax_ckpt'\n",
    "\n",
    "if os.path.exists(ckpt_dir):\n",
    "    shutil.rmtree(ckpt_dir)  # Remove any existing checkpoints from the last notebook run."
   ]
  },
  {
   "cell_type": "code",
   "execution_count": 5,
   "metadata": {},
   "outputs": [],
   "source": [
    "\n",
    "def progress_f(x_data,y_data,epoch,reward):\n",
    "    print(reward)\n",
    "    x_data.append(epoch)\n",
    "    y_data.append(reward)\n",
    "    clear_output(wait=True)\n",
    "    plt.xlabel('Epoch')\n",
    "    plt.ylabel('Total Reward')\n",
    "    plt.plot(x_data, y_data)\n",
    "    plt.show()\n",
    "\n",
    "# policy_hds = train_hds(env,trajectory_length=100 ,num_samples=100,epochs=20, inner_epochs=20, alpha_a=8e-5, aggregation_factor_beta=0.175,\n",
    "#                        init_learning_rate=1e-3, init_noise=0.1, noise_decay=0.5, progress_fn=progress_f) "
   ]
  },
  {
   "cell_type": "code",
   "execution_count": 6,
   "metadata": {},
   "outputs": [
    {
     "data": {
      "image/png": "[encoded data removed]",
      "text/plain": [
       "<Figure size 640x480 with 1 Axes>"
      ]
     },
     "metadata": {},
     "output_type": "display_data"
    },
    {
     "ename": "ValueError",
     "evalue": "Argument to inv must have shape [..., n, n], got (100, 1, 100, 1).",
     "output_type": "error",
     "traceback": [
      "\u001b[0;31m---------------------------------------------------------------------------\u001b[0m",
      "\u001b[0;31mValueError\u001b[0m                                Traceback (most recent call last)",
      "Cell \u001b[0;32mIn[6], line 1\u001b[0m\n\u001b[0;32m----> 1\u001b[0m policy_pods \u001b[38;5;241m=\u001b[39m \u001b[43mtrain_pods\u001b[49m\u001b[43m(\u001b[49m\u001b[43menv\u001b[49m\u001b[43m,\u001b[49m\u001b[43mtrajectory_length\u001b[49m\u001b[38;5;241;43m=\u001b[39;49m\u001b[38;5;241;43m100\u001b[39;49m\u001b[43m \u001b[49m\u001b[43m,\u001b[49m\u001b[43mnum_samples\u001b[49m\u001b[38;5;241;43m=\u001b[39;49m\u001b[38;5;241;43m50\u001b[39;49m\u001b[43m,\u001b[49m\u001b[43mepochs\u001b[49m\u001b[38;5;241;43m=\u001b[39;49m\u001b[38;5;241;43m30\u001b[39;49m\u001b[43m,\u001b[49m\u001b[43m \u001b[49m\u001b[43minner_epochs\u001b[49m\u001b[38;5;241;43m=\u001b[39;49m\u001b[38;5;241;43m20\u001b[39;49m\u001b[43m,\u001b[49m\u001b[43m \u001b[49m\u001b[43malpha_a\u001b[49m\u001b[38;5;241;43m=\u001b[39;49m\u001b[38;5;241;43m2e-4\u001b[39;49m\u001b[43m,\u001b[49m\u001b[43m \u001b[49m\u001b[43minit_learning_rate\u001b[49m\u001b[38;5;241;43m=\u001b[39;49m\u001b[38;5;241;43m1e-3\u001b[39;49m\u001b[43m,\u001b[49m\u001b[43m \u001b[49m\u001b[43mprogress_fn\u001b[49m\u001b[38;5;241;43m=\u001b[39;49m\u001b[43mprogress_f\u001b[49m\u001b[43m)\u001b[49m\n",
      "File \u001b[0;32m~/Documents/HDS/src/pods/Pods.py:201\u001b[0m, in \u001b[0;36mtrain\u001b[0;34m(env, trajectory_length, num_samples, epochs, inner_epochs, alpha_a, init_learning_rate, progress_fn)\u001b[0m\n\u001b[1;32m    198\u001b[0m progress_fn(x_data, y_data, i, jnp\u001b[38;5;241m.\u001b[39mmean(total_reward))\n\u001b[1;32m    200\u001b[0m \u001b[38;5;66;03m# update action sequence\u001b[39;00m\n\u001b[0;32m--> 201\u001b[0m states, actions \u001b[38;5;241m=\u001b[39m trajectories[\u001b[38;5;241m0\u001b[39m], \u001b[43mso_update_action_sequence\u001b[49m\u001b[43m(\u001b[49m\n\u001b[1;32m    202\u001b[0m \u001b[43m    \u001b[49m\u001b[43mtrajectories\u001b[49m\u001b[43m[\u001b[49m\u001b[38;5;241;43m1\u001b[39;49m\u001b[43m]\u001b[49m\u001b[43m,\u001b[49m\u001b[43m \u001b[49m\u001b[43msubkeys\u001b[49m\u001b[43m,\u001b[49m\u001b[43m \u001b[49m\u001b[43malpha_a\u001b[49m\n\u001b[1;32m    203\u001b[0m \u001b[43m\u001b[49m\u001b[43m)\u001b[49m\n\u001b[1;32m    205\u001b[0m \u001b[38;5;66;03m# supervised learning\u001b[39;00m\n\u001b[1;32m    206\u001b[0m \u001b[38;5;28;01mfor\u001b[39;00m j \u001b[38;5;129;01min\u001b[39;00m \u001b[38;5;28mrange\u001b[39m(inner_epochs):\n",
      "    \u001b[0;31m[... skipping hidden 14 frame]\u001b[0m\n",
      "File \u001b[0;32m~/Documents/HDS/src/pods/Pods.py:155\u001b[0m, in \u001b[0;36mtrain.<locals>.so_update_action_sequence\u001b[0;34m(actions, prng_key, alpha_a)\u001b[0m\n\u001b[1;32m    153\u001b[0m \u001b[38;5;66;03m# hess = jax.jacfwd(transpose_grad)(actions, prng_key)\u001b[39;00m\n\u001b[1;32m    154\u001b[0m hess \u001b[38;5;241m=\u001b[39m jax\u001b[38;5;241m.\u001b[39mjacrev(jax\u001b[38;5;241m.\u001b[39mjacfwd(total_reward))(actions, prng_key)\n\u001b[0;32m--> 155\u001b[0m hess_inv \u001b[38;5;241m=\u001b[39m \u001b[43mjnp\u001b[49m\u001b[38;5;241;43m.\u001b[39;49m\u001b[43mlinalg\u001b[49m\u001b[38;5;241;43m.\u001b[39;49m\u001b[43minv\u001b[49m\u001b[43m(\u001b[49m\u001b[43mhess\u001b[49m\u001b[43m)\u001b[49m\n\u001b[1;32m    156\u001b[0m new_actions \u001b[38;5;241m=\u001b[39m actions \u001b[38;5;241m+\u001b[39m alpha_a \u001b[38;5;241m*\u001b[39m jnp\u001b[38;5;241m.\u001b[39mmatmul(hess_inv, grad)\n\u001b[1;32m    157\u001b[0m \u001b[38;5;28;01mreturn\u001b[39;00m new_actions\n",
      "    \u001b[0;31m[... skipping hidden 11 frame]\u001b[0m\n",
      "File \u001b[0;32m~/.local/lib/python3.10/site-packages/jax/_src/numpy/linalg.py:1014\u001b[0m, in \u001b[0;36minv\u001b[0;34m(a)\u001b[0m\n\u001b[1;32m   1012\u001b[0m arr \u001b[38;5;241m=\u001b[39m jnp\u001b[38;5;241m.\u001b[39masarray(a)\n\u001b[1;32m   1013\u001b[0m \u001b[38;5;28;01mif\u001b[39;00m arr\u001b[38;5;241m.\u001b[39mndim \u001b[38;5;241m<\u001b[39m \u001b[38;5;241m2\u001b[39m \u001b[38;5;129;01mor\u001b[39;00m arr\u001b[38;5;241m.\u001b[39mshape[\u001b[38;5;241m-\u001b[39m\u001b[38;5;241m1\u001b[39m] \u001b[38;5;241m!=\u001b[39m arr\u001b[38;5;241m.\u001b[39mshape[\u001b[38;5;241m-\u001b[39m\u001b[38;5;241m2\u001b[39m]:\n\u001b[0;32m-> 1014\u001b[0m   \u001b[38;5;28;01mraise\u001b[39;00m \u001b[38;5;167;01mValueError\u001b[39;00m(\n\u001b[1;32m   1015\u001b[0m     \u001b[38;5;124mf\u001b[39m\u001b[38;5;124m\"\u001b[39m\u001b[38;5;124mArgument to inv must have shape [..., n, n], got \u001b[39m\u001b[38;5;132;01m{\u001b[39;00marr\u001b[38;5;241m.\u001b[39mshape\u001b[38;5;132;01m}\u001b[39;00m\u001b[38;5;124m.\u001b[39m\u001b[38;5;124m\"\u001b[39m)\n\u001b[1;32m   1016\u001b[0m \u001b[38;5;28;01mreturn\u001b[39;00m solve(\n\u001b[1;32m   1017\u001b[0m   arr, lax\u001b[38;5;241m.\u001b[39mbroadcast(jnp\u001b[38;5;241m.\u001b[39meye(arr\u001b[38;5;241m.\u001b[39mshape[\u001b[38;5;241m-\u001b[39m\u001b[38;5;241m1\u001b[39m], dtype\u001b[38;5;241m=\u001b[39marr\u001b[38;5;241m.\u001b[39mdtype), arr\u001b[38;5;241m.\u001b[39mshape[:\u001b[38;5;241m-\u001b[39m\u001b[38;5;241m2\u001b[39m]))\n",
      "\u001b[0;31mValueError\u001b[0m: Argument to inv must have shape [..., n, n], got (100, 1, 100, 1)."
     ]
    }
   ],
   "source": [
    "policy_pods = train_pods(env,trajectory_length=100 ,num_samples=50,epochs=30, inner_epochs=20, alpha_a=2e-4, init_learning_rate=1e-3, progress_fn=progress_f)\n"
   ]
  },
  {
   "cell_type": "code",
   "execution_count": null,
   "metadata": {},
   "outputs": [],
   "source": [
    "policy_hds = train_hds(env,trajectory_length=100 ,num_samples=50,epochs=30, inner_epochs=20, alpha_a=2e-5, aggregation_factor_beta=0.2, init_learning_rate=1e-3, init_noise=0.0, noise_decay=0.5, progress_fn=progress_f) "
   ]
  },
  {
   "cell_type": "code",
   "execution_count": null,
   "metadata": {},
   "outputs": [],
   "source": [
    "realistic_env = RealisticPendulum.RealisticPendulum()\n",
    "# inference_fn_hds = policy_hds()\n",
    "inference_fn_pods = policy_pods()\n",
    "inference_fn_hds = policy_hds()\n",
    "\n",
    "@partial(jax.vmap, in_axes=(None, None, None, 0), axis_name=\"batch\")\n",
    "def rollout_policy(\n",
    "        env, inference_fn, trajectory_length: int, prng_keys\n",
    "    ):\n",
    "\n",
    "    def step_trajectory(state_carry, rng_key):\n",
    "        action = inference_fn(state_carry.obs)\n",
    "        next_state = env.step(state_carry, action)\n",
    "        return next_state, (state_carry.obs, action, next_state.reward)\n",
    "\n",
    "    state = env.reset(prng_keys)\n",
    "    keys = jax.random.split(prng_keys, trajectory_length)\n",
    "    _, (states, actions, rewards_future) = jax.lax.scan(\n",
    "        step_trajectory, state, xs=keys\n",
    "    )\n",
    "\n",
    "    states = jax.numpy.reshape(\n",
    "        states, (trajectory_length, env.observation_size)\n",
    "    )\n",
    "    actions = jax.numpy.reshape(\n",
    "        actions, (trajectory_length, env.action_size)\n",
    "    )\n",
    "\n",
    "    totalreward = jp.sum(rewards_future)\n",
    "\n",
    "    return states, actions, totalreward\n",
    "\n",
    "prng_key = jax.random.PRNGKey(seed=0)\n",
    "subkeys = jax.random.split(prng_key, num=50)\n",
    "\n",
    "_, _ , rewards_original_pods  = rollout_policy(env, inference_fn_pods, 100, subkeys)\n",
    "_, _ , rewards_realistic_pods = rollout_policy(realistic_env, inference_fn_pods, 100, subkeys)\n",
    "# _, _ , rewards_hds = rollout_policy(realistic_env, inference_fn_hds, 100, subkeys)\n",
    "# _, _ , rewards_hds_train_env = rollout_policy(env, inference_fn_hds, 100, subkeys)\n",
    "\n",
    "_, _ , rewards_original_hds  = rollout_policy(env, inference_fn_hds, 100, subkeys)\n",
    "_, _ , rewards_realistic_hds = rollout_policy(realistic_env, inference_fn_hds, 100, subkeys)\n",
    "\n",
    "average_reward_original_pods = jp.mean(rewards_original_pods)\n",
    "average_reward_realistic = jp.mean(rewards_realistic_pods)\n",
    "average_reward_original_hds = jp.mean(rewards_original_hds)\n",
    "average_reward_realistic_hds = jp.mean(rewards_realistic_hds)\n",
    "\n",
    "# average_reward_hds = jp.mean(rewards_hds)\n",
    "# average_reward_hds_train_env = jp.mean(rewards_hds_train_env)"
   ]
  },
  {
   "cell_type": "code",
   "execution_count": null,
   "metadata": {},
   "outputs": [],
   "source": [
    "print(f'PODS on real environment {jp.mean(jp.array(average_reward_realistic))}')\n",
    "print(f'PODS on train environment {jp.mean(jp.array(average_reward_original_pods))}')\n",
    "print(f'HDS on real environment {jp.mean(jp.array(average_reward_realistic_hds))}')\n",
    "print(f'HDS on train environment {jp.mean(jp.array(average_reward_original_hds))}')\n",
    "# print(f'HDS on real environment {jp.mean(jp.array(average_reward_hds))}')\n",
    "# print(f'HDS on train environment {jp.mean(jp.array(average_reward_hds_train_env))}')"
   ]
  },
  {
   "cell_type": "code",
   "execution_count": null,
   "metadata": {},
   "outputs": [],
   "source": [
    "# seeds = [x for x in range(100)]\n",
    "# plt.figure(figsize=(10, 6))\n",
    "# plt.plot(seeds, rewards_realistic, label='PODS on Real Environment', color='blue')\n",
    "# plt.plot(seeds, rewards_original_pods, label='PODS on Train Environment', color='red')\n",
    "# plt.plot(seeds, rewards_hds, label='HDS on Real Environment (Ours)', color='green')\n",
    "# plt.plot(seeds, rewards_hds_train_env, label='HDS on Train Environment (Ours)', color='orange')\n",
    "# plt.xlabel('Seed')\n",
    "# plt.ylabel('Total Reward')\n",
    "# plt.title('Total Reward across Seeds')\n",
    "# plt.legend()\n",
    "# plt.grid(True)\n",
    "# plt.show()"
   ]
  },
  {
   "cell_type": "code",
   "execution_count": null,
   "metadata": {},
   "outputs": [],
   "source": [
    "def run_over_aggregation_factor(aggregation_factor_beta):\n",
    "    policy = train_hds(env,trajectory_length=100 ,num_samples=50,epochs=20, inner_epochs=20, alpha_a=2e-5, aggregation_factor_beta=aggregation_factor_beta,\n",
    "                       init_learning_rate=1e-3, init_noise=0.0, noise_decay=0.0, progress_fn=progress_f) \n",
    "    inference_fn = policy()\n",
    "    \n",
    "    prng_key = jax.random.PRNGKey(seed=0)\n",
    "    subkeys = jax.random.split(prng_key, num=50)\n",
    "    _, _ , rewards_hds_real_env  = rollout_policy(realistic_env, inference_fn, 100, subkeys)\n",
    "    average_reward_hds_real_env = jp.mean(rewards_hds_real_env)\n",
    "    print(aggregation_factor_beta)\n",
    "    del policy\n",
    "    del inference_fn\n",
    "    return average_reward_hds_real_env\n",
    "\n",
    "aggregation_factors = np.linspace(0.0,0.3,5)\n",
    "\n",
    "rewards_dep_aggregation_factor = [run_over_aggregation_factor(x) for x in aggregation_factors]\n",
    "rewards_pods_real_env = [average_reward_realistic for _ in aggregation_factors]\n",
    "rewards_pods_train_env = [average_reward_original_pods for _ in aggregation_factors]\n",
    "\n",
    "plt.figure(figsize=(10, 6))\n",
    "clear_output(wait=True)\n",
    "plt.plot(aggregation_factors, rewards_dep_aggregation_factor, label='HDS on Real Environment (Ours)', color='green')\n",
    "plt.plot(aggregation_factors, rewards_pods_real_env, label='PODS on Real Environment, Mean', color='red')\n",
    "plt.plot(aggregation_factors, rewards_pods_train_env, label='PODS on Train Environment, Mean', color='blue')\n",
    "plt.legend()\n",
    "plt.xlabel('Aggregation Factor')\n",
    "plt.ylabel('Total Reward')\n",
    "plt.title('Total Reward across Aggregation Factors')\n",
    "plt.grid(True)\n",
    "plt.show()\n",
    "\n"
   ]
  },
  {
   "cell_type": "code",
   "execution_count": null,
   "metadata": {},
   "outputs": [],
   "source": [
    "f = open(\"reward.txt\", \"w\")\n",
    "g = open(\"actions.txt\", \"w\")\n",
    "inference_fn = policy_hds()\n",
    "rollout = []\n",
    "rng = jax.random.PRNGKey(seed=1)\n",
    "state = env.reset(rng=rng)\n",
    "reward = []\n",
    "actions = []\n",
    "for _ in range(1000):\n",
    "  rollout.append(state.pipeline_state)\n",
    "  act_rng, rng = jax.random.split(rng)\n",
    "  #print(state.obs)\n",
    "  act = inference_fn(state.obs)\n",
    "  print(act)\n",
    "  reward.append(state.reward)\n",
    "  state = env.step(state, act)\n",
    "  #print(state.reward)\n",
    "  actions.append(act)\n",
    "\n",
    "  \n",
    "print(reward, file=f)\n",
    "print(actions, file=g)"
   ]
  },
  {
   "cell_type": "code",
   "execution_count": null,
   "metadata": {},
   "outputs": [],
   "source": [
    "\n",
    "yes=html.render(env.sys.replace(), rollout)\n",
    "with open(\"data.html\", \"w\") as file:\n",
    "    file.write(yes)"
   ]
  }
 ],
 "metadata": {
  "kernelspec": {
   "display_name": "RLandML",
   "language": "python",
   "name": "python3"
  },
  "language_info": {
   "codemirror_mode": {
    "name": "ipython",
    "version": 3
   },
   "file_extension": ".py",
   "mimetype": "text/x-python",
   "name": "python",
   "nbconvert_exporter": "python",
   "pygments_lexer": "ipython3",
   "version": "3.10.14"
  }
 },
 "nbformat": 4,
 "nbformat_minor": 2
}
