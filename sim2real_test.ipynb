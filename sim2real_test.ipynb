{
 "cells": [
  {
   "cell_type": "code",
   "execution_count": null,
   "metadata": {},
   "outputs": [],
   "source": [
    "from functools import partial\n",
    "import jax\n",
    "import os\n",
    "import html\n",
    "\n",
    "from datetime import datetime\n",
    "from jax import numpy as jp\n",
    "jax.config.update(\"jax_debug_nans\", False)\n",
    "jax.config.update(\"jax_enable_x64\", True)\n",
    "import matplotlib.pyplot as plt\n",
    "\n",
    "from IPython.display import HTML, clear_output, display\n",
    "from brax.io import html\n",
    "\n",
    "import shutil\n",
    "\n",
    "from src.pods.Pods import train as train_pods\n",
    "from src.hds.Hds import train as train_hds\n",
    "from src.envs.original import Pendulum \n",
    "from src.envs.realistic import RealisticPendulum \n",
    "from src.dyn_model.Predict import pretrained_params\n",
    "\n",
    "\n"
   ]
  },
  {
   "cell_type": "code",
   "execution_count": null,
   "metadata": {},
   "outputs": [],
   "source": [
    "from jax.lib import xla_bridge\n",
    "print(xla_bridge.get_backend().platform)\n",
    "print(jax.devices())"
   ]
  },
  {
   "cell_type": "code",
   "execution_count": null,
   "metadata": {},
   "outputs": [],
   "source": [
    "env = Pendulum.Pendulum()\n",
    "state = jax.jit(env.reset)(rng=jax.random.PRNGKey(seed=0))\n",
    "\n",
    "#HTML(html.render(env.sys, [state.pipeline_state]))"
   ]
  },
  {
   "cell_type": "code",
   "execution_count": null,
   "metadata": {},
   "outputs": [],
   "source": [
    "ckpt_dir = './tmp/flax_ckpt'\n",
    "\n",
    "if os.path.exists(ckpt_dir):\n",
    "    shutil.rmtree(ckpt_dir)  # Remove any existing checkpoints from the last notebook run."
   ]
  },
  {
   "cell_type": "code",
   "execution_count": null,
   "metadata": {},
   "outputs": [],
   "source": [
    "\n",
    "def progress_f(x_data,y_data,epoch,reward):\n",
    "    print(reward)\n",
    "    x_data.append(epoch)\n",
    "    y_data.append(reward)\n",
    "    clear_output(wait=True)\n",
    "    plt.xlabel('Epoch')\n",
    "    plt.ylabel('Total Reward')\n",
    "    plt.plot(x_data, y_data)\n",
    "    plt.show()\n",
    "\n",
    "policy_hds = train_hds(env,trajectory_length=100 ,num_samples=100,epochs=20, inner_epochs=20, alpha_a=8e-5, aggregation_factor_beta=0.175,\n",
    "                       init_learning_rate=1e-3, init_noise=0.1, noise_decay=0.8, progress_fn=progress_f) "
   ]
  },
  {
   "cell_type": "code",
   "execution_count": null,
   "metadata": {},
   "outputs": [],
   "source": [
    "policy_pods = train_pods(env,trajectory_length=100 ,num_samples=100,epochs=20, inner_epochs=20, alpha_a=8e-5, init_learning_rate=1e-3, progress_fn=progress_f)"
   ]
  },
  {
   "cell_type": "code",
   "execution_count": null,
   "metadata": {},
   "outputs": [],
   "source": [
    "realistic_env = RealisticPendulum.RealisticPendulum()\n",
    "inference_fn_hds = policy_hds()\n",
    "inference_fn_pods = policy_pods()\n",
    "\n",
    "@partial(jax.vmap, in_axes=(None, None, None, 0), axis_name=\"batch\")\n",
    "def rollout_policy(\n",
    "        env, inference_fn, trajectory_length: int, prng_keys\n",
    "    ):\n",
    "\n",
    "    def step_trajectory(state_carry, rng_key):\n",
    "        action = inference_fn(state_carry.obs)\n",
    "        next_state = env.step(state_carry, action)\n",
    "        return next_state, (state_carry.obs, action, next_state.reward)\n",
    "\n",
    "    state = env.reset(prng_keys)\n",
    "    keys = jax.random.split(prng_keys, trajectory_length)\n",
    "    _, (states, actions, rewards_future) = jax.lax.scan(\n",
    "        step_trajectory, state, xs=keys\n",
    "    )\n",
    "\n",
    "    states = jax.numpy.reshape(\n",
    "        states, (trajectory_length, env.observation_size)\n",
    "    )\n",
    "    actions = jax.numpy.reshape(\n",
    "        actions, (trajectory_length, env.action_size)\n",
    "    )\n",
    "\n",
    "    totalreward = jp.sum(rewards_future)\n",
    "\n",
    "    return states, actions, totalreward\n",
    "\n",
    "prng_key = jax.random.PRNGKey(seed=0)\n",
    "subkeys = jax.random.split(prng_key, num=100)\n",
    "\n",
    "_, _ , rewards_original_pods  = rollout_policy(env, inference_fn_pods, 100, subkeys)\n",
    "_, _ , rewards_realistic = rollout_policy(realistic_env, inference_fn_pods, 100, subkeys)\n",
    "_, _ , rewards_hds = rollout_policy(realistic_env, inference_fn_hds, 100, subkeys)\n",
    "_, _ , rewards_hds_train_env = rollout_policy(env, inference_fn_hds, 100, subkeys)\n",
    "\n",
    "average_reward_original_pods = jp.mean(rewards_original_pods)\n",
    "average_reward_realistic = jp.mean(rewards_realistic)\n",
    "average_reward_hds = jp.mean(rewards_hds)\n",
    "average_reward_hds_train_env = jp.mean(rewards_hds_train_env)"
   ]
  },
  {
   "cell_type": "code",
   "execution_count": null,
   "metadata": {},
   "outputs": [],
   "source": [
    "print(f'PODS on real environment {jp.mean(jp.array(average_reward_realistic))}')\n",
    "print(f'PODS on train environment {jp.mean(jp.array(average_reward_original_pods))}')\n",
    "print(f'HDS on real environment {jp.mean(jp.array(average_reward_hds))}')\n",
    "print(f'HDS on train environment {jp.mean(jp.array(average_reward_hds_train_env))}')"
   ]
  },
  {
   "cell_type": "code",
   "execution_count": null,
   "metadata": {},
   "outputs": [],
   "source": [
    "seeds = [x for x in range(100)]\n",
    "plt.figure(figsize=(10, 6))\n",
    "plt.plot(seeds, rewards_realistic, label='PODS on Real Environment', color='blue')\n",
    "plt.plot(seeds, rewards_original_pods, label='PODS on Train Environment', color='red')\n",
    "plt.plot(seeds, rewards_hds, label='HDS on Real Environment (Ours)', color='green')\n",
    "plt.plot(seeds, rewards_hds_train_env, label='HDS on Train Environment (Ours)', color='orange')\n",
    "plt.xlabel('Seed')\n",
    "plt.ylabel('Total Reward')\n",
    "plt.title('Total Reward across Seeds')\n",
    "plt.legend()\n",
    "plt.grid(True)\n",
    "plt.show()"
   ]
  },
  {
   "cell_type": "code",
   "execution_count": null,
   "metadata": {},
   "outputs": [],
   "source": [
    "\n",
    "yes=html.render(env.sys.replace(dt=env.dt), rollout_realistic)\n",
    "with open(\"data.html\", \"w\") as file:\n",
    "    file.write(yes)"
   ]
  }
 ],
 "metadata": {
  "kernelspec": {
   "display_name": "RLandML",
   "language": "python",
   "name": "python3"
  },
  "language_info": {
   "codemirror_mode": {
    "name": "ipython",
    "version": 3
   },
   "file_extension": ".py",
   "mimetype": "text/x-python",
   "name": "python",
   "nbconvert_exporter": "python",
   "pygments_lexer": "ipython3",
   "version": "3.11.8"
  }
 },
 "nbformat": 4,
 "nbformat_minor": 2
}
