{
 "cells": [
  {
   "cell_type": "code",
   "execution_count": 1,
   "metadata": {},
   "outputs": [],
   "source": [
    "import functools\n",
    "import jax\n",
    "import os\n",
    "import html\n",
    "\n",
    "from datetime import datetime\n",
    "from jax import numpy as jp\n",
    "import matplotlib.pyplot as plt\n",
    "\n",
    "from IPython.display import HTML, clear_output, display\n",
    "\n",
    "import flax\n",
    "from brax import envs\n",
    "from brax.io import model\n",
    "from brax.io import json\n",
    "from brax.io import html\n",
    "\n",
    "from src.pods.pods import train\n",
    "from src.env.Pendulum import InvertedPendulum\n",
    "import pickle\n"
   ]
  },
  {
   "cell_type": "code",
   "execution_count": 2,
   "metadata": {},
   "outputs": [
    {
     "ename": "TypeError",
     "evalue": "Pred type must be either boolean or number, got <bound method _forward_method_to_aval.<locals>.meth of Traced<ShapedArray(uint32[1])>with<DynamicJaxprTrace(level=1/0)>>.",
     "output_type": "error",
     "traceback": [
      "\u001b[0;31m---------------------------------------------------------------------------\u001b[0m",
      "\u001b[0;31mTypeError\u001b[0m                                 Traceback (most recent call last)",
      "File \u001b[0;32m~/anaconda3/envs/RLandML/lib/python3.11/site-packages/jax/_src/dtypes.py:653\u001b[0m, in \u001b[0;36mdtype\u001b[0;34m(x, canonicalize)\u001b[0m\n\u001b[1;32m    652\u001b[0m \u001b[38;5;28;01mtry\u001b[39;00m:\n\u001b[0;32m--> 653\u001b[0m   dt \u001b[38;5;241m=\u001b[39m np\u001b[38;5;241m.\u001b[39mresult_type(x)\n\u001b[1;32m    654\u001b[0m \u001b[38;5;28;01mexcept\u001b[39;00m \u001b[38;5;167;01mTypeError\u001b[39;00m \u001b[38;5;28;01mas\u001b[39;00m err:\n",
      "\u001b[0;31mTypeError\u001b[0m: Cannot interpret '<bound method _forward_method_to_aval.<locals>.meth of Traced<ShapedArray(uint32[1])>with<DynamicJaxprTrace(level=1/0)>>' as a data type",
      "\nThe above exception was the direct cause of the following exception:\n",
      "\u001b[0;31mTypeError\u001b[0m                                 Traceback (most recent call last)",
      "    \u001b[0;31m[... skipping hidden 1 frame]\u001b[0m\n",
      "File \u001b[0;32m~/anaconda3/envs/RLandML/lib/python3.11/site-packages/jax/_src/dtypes.py:710\u001b[0m, in \u001b[0;36mresult_type\u001b[0;34m(return_weak_type_flag, *args)\u001b[0m\n\u001b[1;32m    709\u001b[0m dtype: DType \u001b[38;5;241m|\u001b[39m ExtendedDType\n\u001b[0;32m--> 710\u001b[0m dtype, weak_type \u001b[38;5;241m=\u001b[39m _lattice_result_type(\u001b[38;5;241m*\u001b[39m(float_ \u001b[38;5;28;01mif\u001b[39;00m arg \u001b[38;5;129;01mis\u001b[39;00m \u001b[38;5;28;01mNone\u001b[39;00m \u001b[38;5;28;01melse\u001b[39;00m arg \u001b[38;5;28;01mfor\u001b[39;00m arg \u001b[38;5;129;01min\u001b[39;00m args))\n\u001b[1;32m    711\u001b[0m \u001b[38;5;28;01mif\u001b[39;00m weak_type:\n",
      "File \u001b[0;32m~/anaconda3/envs/RLandML/lib/python3.11/site-packages/jax/_src/dtypes.py:663\u001b[0m, in \u001b[0;36m_lattice_result_type\u001b[0;34m(*args)\u001b[0m\n\u001b[1;32m    662\u001b[0m \u001b[38;5;28;01mdef\u001b[39;00m \u001b[38;5;21m_lattice_result_type\u001b[39m(\u001b[38;5;241m*\u001b[39margs: Any) \u001b[38;5;241m-\u001b[39m\u001b[38;5;241m>\u001b[39m \u001b[38;5;28mtuple\u001b[39m[DType, \u001b[38;5;28mbool\u001b[39m]:\n\u001b[0;32m--> 663\u001b[0m   dtypes, weak_types \u001b[38;5;241m=\u001b[39m \u001b[38;5;28mzip\u001b[39m(\u001b[38;5;241m*\u001b[39m(_dtype_and_weaktype(arg) \u001b[38;5;28;01mfor\u001b[39;00m arg \u001b[38;5;129;01min\u001b[39;00m args))\n\u001b[1;32m    664\u001b[0m   \u001b[38;5;28;01mif\u001b[39;00m \u001b[38;5;28mlen\u001b[39m(dtypes) \u001b[38;5;241m==\u001b[39m \u001b[38;5;241m1\u001b[39m:\n",
      "File \u001b[0;32m~/anaconda3/envs/RLandML/lib/python3.11/site-packages/jax/_src/dtypes.py:663\u001b[0m, in \u001b[0;36m<genexpr>\u001b[0;34m(.0)\u001b[0m\n\u001b[1;32m    662\u001b[0m \u001b[38;5;28;01mdef\u001b[39;00m \u001b[38;5;21m_lattice_result_type\u001b[39m(\u001b[38;5;241m*\u001b[39margs: Any) \u001b[38;5;241m-\u001b[39m\u001b[38;5;241m>\u001b[39m \u001b[38;5;28mtuple\u001b[39m[DType, \u001b[38;5;28mbool\u001b[39m]:\n\u001b[0;32m--> 663\u001b[0m   dtypes, weak_types \u001b[38;5;241m=\u001b[39m \u001b[38;5;28mzip\u001b[39m(\u001b[38;5;241m*\u001b[39m(_dtype_and_weaktype(arg) \u001b[38;5;28;01mfor\u001b[39;00m arg \u001b[38;5;129;01min\u001b[39;00m args))\n\u001b[1;32m    664\u001b[0m   \u001b[38;5;28;01mif\u001b[39;00m \u001b[38;5;28mlen\u001b[39m(dtypes) \u001b[38;5;241m==\u001b[39m \u001b[38;5;241m1\u001b[39m:\n",
      "File \u001b[0;32m~/anaconda3/envs/RLandML/lib/python3.11/site-packages/jax/_src/dtypes.py:474\u001b[0m, in \u001b[0;36m_dtype_and_weaktype\u001b[0;34m(value)\u001b[0m\n\u001b[1;32m    473\u001b[0m \u001b[38;5;250m\u001b[39m\u001b[38;5;124;03m\"\"\"Return a (dtype, weak_type) tuple for the given input.\"\"\"\u001b[39;00m\n\u001b[0;32m--> 474\u001b[0m \u001b[38;5;28;01mreturn\u001b[39;00m dtype(value), \u001b[38;5;28many\u001b[39m(value \u001b[38;5;129;01mis\u001b[39;00m typ \u001b[38;5;28;01mfor\u001b[39;00m typ \u001b[38;5;129;01min\u001b[39;00m _weak_types) \u001b[38;5;129;01mor\u001b[39;00m is_weakly_typed(value)\n",
      "File \u001b[0;32m~/anaconda3/envs/RLandML/lib/python3.11/site-packages/jax/_src/dtypes.py:655\u001b[0m, in \u001b[0;36mdtype\u001b[0;34m(x, canonicalize)\u001b[0m\n\u001b[1;32m    654\u001b[0m   \u001b[38;5;28;01mexcept\u001b[39;00m \u001b[38;5;167;01mTypeError\u001b[39;00m \u001b[38;5;28;01mas\u001b[39;00m err:\n\u001b[0;32m--> 655\u001b[0m     \u001b[38;5;28;01mraise\u001b[39;00m \u001b[38;5;167;01mTypeError\u001b[39;00m(\u001b[38;5;124mf\u001b[39m\u001b[38;5;124m\"\u001b[39m\u001b[38;5;124mCannot determine dtype of \u001b[39m\u001b[38;5;132;01m{\u001b[39;00mx\u001b[38;5;132;01m}\u001b[39;00m\u001b[38;5;124m\"\u001b[39m) \u001b[38;5;28;01mfrom\u001b[39;00m \u001b[38;5;21;01merr\u001b[39;00m\n\u001b[1;32m    656\u001b[0m \u001b[38;5;28;01mif\u001b[39;00m dt \u001b[38;5;129;01mnot\u001b[39;00m \u001b[38;5;129;01min\u001b[39;00m _jax_dtype_set \u001b[38;5;129;01mand\u001b[39;00m \u001b[38;5;129;01mnot\u001b[39;00m issubdtype(dt, extended):\n",
      "\u001b[0;31mTypeError\u001b[0m: Cannot determine dtype of <bound method _forward_method_to_aval.<locals>.meth of Traced<ShapedArray(uint32[1])>with<DynamicJaxprTrace(level=1/0)>>",
      "\nThe above exception was the direct cause of the following exception:\n",
      "\u001b[0;31mTypeError\u001b[0m                                 Traceback (most recent call last)",
      "Cell \u001b[0;32mIn[2], line 2\u001b[0m\n\u001b[1;32m      1\u001b[0m env \u001b[38;5;241m=\u001b[39m InvertedPendulum()\n\u001b[0;32m----> 2\u001b[0m state \u001b[38;5;241m=\u001b[39m env\u001b[38;5;241m.\u001b[39mreset(rng\u001b[38;5;241m=\u001b[39mjax\u001b[38;5;241m.\u001b[39mrandom\u001b[38;5;241m.\u001b[39mPRNGKey(seed\u001b[38;5;241m=\u001b[39m\u001b[38;5;241m2000\u001b[39m))\n\u001b[1;32m      3\u001b[0m state \u001b[38;5;241m=\u001b[39m jax\u001b[38;5;241m.\u001b[39mjit(env\u001b[38;5;241m.\u001b[39mreset)(rng\u001b[38;5;241m=\u001b[39mjax\u001b[38;5;241m.\u001b[39mrandom\u001b[38;5;241m.\u001b[39mPRNGKey(seed\u001b[38;5;241m=\u001b[39m\u001b[38;5;241m0\u001b[39m))\n",
      "    \u001b[0;31m[... skipping hidden 12 frame]\u001b[0m\n",
      "File \u001b[0;32m~/Documents/ETH/Semester 6/RL/Project/HDS/src/env/Pendulum.py:91\u001b[0m, in \u001b[0;36mInvertedPendulum.reset\u001b[0;34m(self, rng)\u001b[0m\n\u001b[1;32m     87\u001b[0m \u001b[38;5;28;01melse\u001b[39;00m:\n\u001b[1;32m     88\u001b[0m   target \u001b[38;5;241m=\u001b[39m jax\u001b[38;5;241m.\u001b[39mrandom\u001b[38;5;241m.\u001b[39mbits(rng3, shape\u001b[38;5;241m=\u001b[39m(\u001b[38;5;241m1\u001b[39m,))\u001b[38;5;241m%\u001b[39m\u001b[38;5;241m2\u001b[39m\n\u001b[0;32m---> 91\u001b[0m distancex,distancey,wx,wp \u001b[38;5;241m=\u001b[39m jax\u001b[38;5;241m.\u001b[39mlax\u001b[38;5;241m.\u001b[39mcond(target\u001b[38;5;241m.\u001b[39mitem, f1, f2, \u001b[38;5;28;01mNone\u001b[39;00m)\n\u001b[1;32m     92\u001b[0m reward, done \u001b[38;5;241m=\u001b[39m jp\u001b[38;5;241m.\u001b[39mzeros(\u001b[38;5;241m2\u001b[39m)\n\u001b[1;32m     93\u001b[0m metrics \u001b[38;5;241m=\u001b[39m {}\n",
      "    \u001b[0;31m[... skipping hidden 2 frame]\u001b[0m\n",
      "File \u001b[0;32m~/anaconda3/envs/RLandML/lib/python3.11/site-packages/jax/_src/lax/control_flow/conditionals.py:221\u001b[0m, in \u001b[0;36m_cond\u001b[0;34m(***failed resolving arguments***)\u001b[0m\n\u001b[1;32m    219\u001b[0m \u001b[38;5;28;01mexcept\u001b[39;00m \u001b[38;5;167;01mTypeError\u001b[39;00m \u001b[38;5;28;01mas\u001b[39;00m err:\n\u001b[1;32m    220\u001b[0m   msg \u001b[38;5;241m=\u001b[39m (\u001b[38;5;124m\"\u001b[39m\u001b[38;5;124mPred type must be either boolean or number, got \u001b[39m\u001b[38;5;132;01m{}\u001b[39;00m\u001b[38;5;124m.\u001b[39m\u001b[38;5;124m\"\u001b[39m)\n\u001b[0;32m--> 221\u001b[0m   \u001b[38;5;28;01mraise\u001b[39;00m \u001b[38;5;167;01mTypeError\u001b[39;00m(msg\u001b[38;5;241m.\u001b[39mformat(pred)) \u001b[38;5;28;01mfrom\u001b[39;00m \u001b[38;5;21;01merr\u001b[39;00m\n\u001b[1;32m    223\u001b[0m \u001b[38;5;28;01mif\u001b[39;00m pred_dtype\u001b[38;5;241m.\u001b[39mkind \u001b[38;5;241m!=\u001b[39m \u001b[38;5;124m'\u001b[39m\u001b[38;5;124mb\u001b[39m\u001b[38;5;124m'\u001b[39m:\n\u001b[1;32m    224\u001b[0m   \u001b[38;5;28;01mif\u001b[39;00m pred_dtype\u001b[38;5;241m.\u001b[39mkind \u001b[38;5;129;01min\u001b[39;00m \u001b[38;5;124m'\u001b[39m\u001b[38;5;124miuf\u001b[39m\u001b[38;5;124m'\u001b[39m:\n",
      "\u001b[0;31mTypeError\u001b[0m: Pred type must be either boolean or number, got <bound method _forward_method_to_aval.<locals>.meth of Traced<ShapedArray(uint32[1])>with<DynamicJaxprTrace(level=1/0)>>."
     ]
    }
   ],
   "source": [
    "env = InvertedPendulum()\n",
    "state = env.reset(rng=jax.random.PRNGKey(seed=2000))\n",
    "state = jax.jit(env.reset)(rng=jax.random.PRNGKey(seed=0))\n",
    "\n",
    "#HTML(html.render(env.sys, [state.pipeline_state]))"
   ]
  },
  {
   "cell_type": "code",
   "execution_count": null,
   "metadata": {},
   "outputs": [
    {
     "ename": "TracerBoolConversionError",
     "evalue": "Attempted boolean conversion of traced array with shape bool[1]..\nThe error occurred while tracing the function step at /Users/carloteufel/Documents/ETH/Semester 6/RL/Project/HDS/src/env/Pendulum.py:89 for jit. This value became a tracer due to JAX operations on these lines:\n\n  operation a:u32[] = convert_element_type[new_dtype=uint32 weak_type=False] b\n    from line /Users/carloteufel/Documents/ETH/Semester 6/RL/Project/HDS/src/env/Pendulum.py:97:7 (InvertedPendulum.step)\nSee https://jax.readthedocs.io/en/latest/errors.html#jax.errors.TracerBoolConversionError",
     "output_type": "error",
     "traceback": [
      "\u001b[0;31m---------------------------------------------------------------------------\u001b[0m",
      "\u001b[0;31mTracerBoolConversionError\u001b[0m                 Traceback (most recent call last)",
      "Cell \u001b[0;32mIn[3], line 10\u001b[0m\n\u001b[1;32m      7\u001b[0m     plt\u001b[38;5;241m.\u001b[39mplot(x_data, y_data)\n\u001b[1;32m      8\u001b[0m     plt\u001b[38;5;241m.\u001b[39mshow()\n\u001b[0;32m---> 10\u001b[0m policy \u001b[38;5;241m=\u001b[39m train(env,trajectory_length\u001b[38;5;241m=\u001b[39m\u001b[38;5;241m30\u001b[39m,num_samples\u001b[38;5;241m=\u001b[39m\u001b[38;5;241m100\u001b[39m,epochs\u001b[38;5;241m=\u001b[39m\u001b[38;5;241m100\u001b[39m,alpha_a\u001b[38;5;241m=\u001b[39m\u001b[38;5;241m0.001\u001b[39m,progress_fn\u001b[38;5;241m=\u001b[39mprogress_f)\n",
      "File \u001b[0;32m~/Documents/ETH/Semester 6/RL/Project/HDS/src/pods/pods.py:175\u001b[0m, in \u001b[0;36mtrain\u001b[0;34m(env, trajectory_length, num_samples, epochs, alpha_a, progress_fn)\u001b[0m\n\u001b[1;32m    172\u001b[0m subkeys \u001b[38;5;241m=\u001b[39m jax\u001b[38;5;241m.\u001b[39mrandom\u001b[38;5;241m.\u001b[39msplit(key2, num_samples)\n\u001b[1;32m    174\u001b[0m \u001b[38;5;66;03m# generate trajectories\u001b[39;00m\n\u001b[0;32m--> 175\u001b[0m trajectories \u001b[38;5;241m=\u001b[39m generate_trajectory_parallel(environment, train_state, trajectory_length, num_samples, subkeys)\n\u001b[1;32m    176\u001b[0m totalreward\u001b[38;5;241m=\u001b[39mtrajectories[\u001b[38;5;241m2\u001b[39m]\n\u001b[1;32m    177\u001b[0m trajectories\u001b[38;5;241m=\u001b[39mtrajectories[:\u001b[38;5;241m2\u001b[39m]\n",
      "File \u001b[0;32m~/Documents/ETH/Semester 6/RL/Project/HDS/src/pods/pods.py:53\u001b[0m, in \u001b[0;36mgenerate_trajectory_parallel\u001b[0;34m(environment, train_state, trajectory_length, num_samples, prng_keys)\u001b[0m\n\u001b[1;32m     50\u001b[0m     \u001b[38;5;28;01mreturn\u001b[39;00m next_state, (next_state\u001b[38;5;241m.\u001b[39mobs, action,next_state\u001b[38;5;241m.\u001b[39mreward)\n\u001b[1;32m     52\u001b[0m state: State \u001b[38;5;241m=\u001b[39m environment\u001b[38;5;241m.\u001b[39mreset(prng_keys)\n\u001b[0;32m---> 53\u001b[0m _, (updatedstates, updatedactions,reward) \u001b[38;5;241m=\u001b[39m jax\u001b[38;5;241m.\u001b[39mlax\u001b[38;5;241m.\u001b[39mscan(step_trajectory, state, xs\u001b[38;5;241m=\u001b[39m\u001b[38;5;28;01mNone\u001b[39;00m, length\u001b[38;5;241m=\u001b[39mtrajectory_length)\n\u001b[1;32m     54\u001b[0m \u001b[38;5;28mprint\u001b[39m(updatedstates\u001b[38;5;241m.\u001b[39mshape, updatedactions\u001b[38;5;241m.\u001b[39mshape)\n\u001b[1;32m     55\u001b[0m \u001b[38;5;28mprint\u001b[39m(\u001b[38;5;124m\"\u001b[39m\u001b[38;5;124mHALLO\u001b[39m\u001b[38;5;124m\"\u001b[39m)\n",
      "    \u001b[0;31m[... skipping hidden 9 frame]\u001b[0m\n",
      "File \u001b[0;32m~/Documents/ETH/Semester 6/RL/Project/HDS/src/pods/pods.py:49\u001b[0m, in \u001b[0;36mgenerate_trajectory_parallel.<locals>.step_trajectory\u001b[0;34m(state, _)\u001b[0m\n\u001b[1;32m     47\u001b[0m \u001b[38;5;28;01mdef\u001b[39;00m \u001b[38;5;21mstep_trajectory\u001b[39m(state, _):\n\u001b[1;32m     48\u001b[0m     action \u001b[38;5;241m=\u001b[39m train_state\u001b[38;5;241m.\u001b[39mpolicy_model\u001b[38;5;241m.\u001b[39mapply(train_state\u001b[38;5;241m.\u001b[39mpolicy_params, state\u001b[38;5;241m.\u001b[39mobs)\n\u001b[0;32m---> 49\u001b[0m     next_state \u001b[38;5;241m=\u001b[39m environment\u001b[38;5;241m.\u001b[39mstep(state, action)\n\u001b[1;32m     50\u001b[0m     \u001b[38;5;28;01mreturn\u001b[39;00m next_state, (next_state\u001b[38;5;241m.\u001b[39mobs, action,next_state\u001b[38;5;241m.\u001b[39mreward)\n",
      "File \u001b[0;32m~/anaconda3/envs/RLandML/lib/python3.11/site-packages/brax/envs/wrappers/training.py:122\u001b[0m, in \u001b[0;36mAutoResetWrapper.step\u001b[0;34m(self, state, action)\u001b[0m\n\u001b[1;32m    120\u001b[0m   state\u001b[38;5;241m.\u001b[39minfo\u001b[38;5;241m.\u001b[39mupdate(steps\u001b[38;5;241m=\u001b[39msteps)\n\u001b[1;32m    121\u001b[0m state \u001b[38;5;241m=\u001b[39m state\u001b[38;5;241m.\u001b[39mreplace(done\u001b[38;5;241m=\u001b[39mjp\u001b[38;5;241m.\u001b[39mzeros_like(state\u001b[38;5;241m.\u001b[39mdone))\n\u001b[0;32m--> 122\u001b[0m state \u001b[38;5;241m=\u001b[39m \u001b[38;5;28mself\u001b[39m\u001b[38;5;241m.\u001b[39menv\u001b[38;5;241m.\u001b[39mstep(state, action)\n\u001b[1;32m    124\u001b[0m \u001b[38;5;28;01mdef\u001b[39;00m \u001b[38;5;21mwhere_done\u001b[39m(x, y):\n\u001b[1;32m    125\u001b[0m   done \u001b[38;5;241m=\u001b[39m state\u001b[38;5;241m.\u001b[39mdone\n",
      "File \u001b[0;32m~/anaconda3/envs/RLandML/lib/python3.11/site-packages/brax/envs/wrappers/training.py:71\u001b[0m, in \u001b[0;36mVmapWrapper.step\u001b[0;34m(self, state, action)\u001b[0m\n\u001b[1;32m     70\u001b[0m \u001b[38;5;28;01mdef\u001b[39;00m \u001b[38;5;21mstep\u001b[39m(\u001b[38;5;28mself\u001b[39m, state: State, action: jax\u001b[38;5;241m.\u001b[39mArray) \u001b[38;5;241m-\u001b[39m\u001b[38;5;241m>\u001b[39m State:\n\u001b[0;32m---> 71\u001b[0m   \u001b[38;5;28;01mreturn\u001b[39;00m jax\u001b[38;5;241m.\u001b[39mvmap(\u001b[38;5;28mself\u001b[39m\u001b[38;5;241m.\u001b[39menv\u001b[38;5;241m.\u001b[39mstep)(state, action)\n",
      "    \u001b[0;31m[... skipping hidden 3 frame]\u001b[0m\n",
      "File \u001b[0;32m~/anaconda3/envs/RLandML/lib/python3.11/site-packages/brax/envs/wrappers/training.py:93\u001b[0m, in \u001b[0;36mEpisodeWrapper.step\u001b[0;34m(self, state, action)\u001b[0m\n\u001b[1;32m     90\u001b[0m   nstate \u001b[38;5;241m=\u001b[39m \u001b[38;5;28mself\u001b[39m\u001b[38;5;241m.\u001b[39menv\u001b[38;5;241m.\u001b[39mstep(state, action)\n\u001b[1;32m     91\u001b[0m   \u001b[38;5;28;01mreturn\u001b[39;00m nstate, nstate\u001b[38;5;241m.\u001b[39mreward\n\u001b[0;32m---> 93\u001b[0m state, rewards \u001b[38;5;241m=\u001b[39m jax\u001b[38;5;241m.\u001b[39mlax\u001b[38;5;241m.\u001b[39mscan(f, state, (), \u001b[38;5;28mself\u001b[39m\u001b[38;5;241m.\u001b[39maction_repeat)\n\u001b[1;32m     94\u001b[0m state \u001b[38;5;241m=\u001b[39m state\u001b[38;5;241m.\u001b[39mreplace(reward\u001b[38;5;241m=\u001b[39mjp\u001b[38;5;241m.\u001b[39msum(rewards, axis\u001b[38;5;241m=\u001b[39m\u001b[38;5;241m0\u001b[39m))\n\u001b[1;32m     95\u001b[0m steps \u001b[38;5;241m=\u001b[39m state\u001b[38;5;241m.\u001b[39minfo[\u001b[38;5;124m'\u001b[39m\u001b[38;5;124msteps\u001b[39m\u001b[38;5;124m'\u001b[39m] \u001b[38;5;241m+\u001b[39m \u001b[38;5;28mself\u001b[39m\u001b[38;5;241m.\u001b[39maction_repeat\n",
      "    \u001b[0;31m[... skipping hidden 9 frame]\u001b[0m\n",
      "File \u001b[0;32m~/anaconda3/envs/RLandML/lib/python3.11/site-packages/brax/envs/wrappers/training.py:90\u001b[0m, in \u001b[0;36mEpisodeWrapper.step.<locals>.f\u001b[0;34m(state, _)\u001b[0m\n\u001b[1;32m     89\u001b[0m \u001b[38;5;28;01mdef\u001b[39;00m \u001b[38;5;21mf\u001b[39m(state, _):\n\u001b[0;32m---> 90\u001b[0m   nstate \u001b[38;5;241m=\u001b[39m \u001b[38;5;28mself\u001b[39m\u001b[38;5;241m.\u001b[39menv\u001b[38;5;241m.\u001b[39mstep(state, action)\n\u001b[1;32m     91\u001b[0m   \u001b[38;5;28;01mreturn\u001b[39;00m nstate, nstate\u001b[38;5;241m.\u001b[39mreward\n",
      "    \u001b[0;31m[... skipping hidden 12 frame]\u001b[0m\n",
      "File \u001b[0;32m~/Documents/ETH/Semester 6/RL/Project/HDS/src/env/Pendulum.py:97\u001b[0m, in \u001b[0;36mInvertedPendulum.step\u001b[0;34m(self, state, action)\u001b[0m\n\u001b[1;32m     95\u001b[0m  wp,wx,wv,wa \u001b[38;5;241m=\u001b[39m \u001b[38;5;241m5\u001b[39m,\u001b[38;5;241m5\u001b[39m,\u001b[38;5;241m5\u001b[39m,\u001b[38;5;241m5\u001b[39m\n\u001b[1;32m     96\u001b[0m \u001b[38;5;66;03m# - wx*(jp.cos(obs[0])**2 + (obs[0]-target + jp.sin(obs[1]))**2)\u001b[39;00m\n\u001b[0;32m---> 97\u001b[0m  \u001b[38;5;28;01mif\u001b[39;00m target \u001b[38;5;241m==\u001b[39m \u001b[38;5;241m0\u001b[39m:\n\u001b[1;32m     98\u001b[0m    reward \u001b[38;5;241m=\u001b[39m \u001b[38;5;241m-\u001b[39mwa\u001b[38;5;241m*\u001b[39m(action)\u001b[38;5;241m*\u001b[39m\u001b[38;5;241m*\u001b[39m\u001b[38;5;241m2\u001b[39m \u001b[38;5;241m-\u001b[39m wv\u001b[38;5;241m*\u001b[39m(obs[\u001b[38;5;241m2\u001b[39m]\u001b[38;5;241m*\u001b[39m\u001b[38;5;241m*\u001b[39m\u001b[38;5;241m2\u001b[39m \u001b[38;5;241m+\u001b[39m obs[\u001b[38;5;241m3\u001b[39m]\u001b[38;5;241m*\u001b[39m\u001b[38;5;241m*\u001b[39m\u001b[38;5;241m2\u001b[39m)\n\u001b[1;32m     99\u001b[0m  \u001b[38;5;28;01melse\u001b[39;00m:\n",
      "    \u001b[0;31m[... skipping hidden 1 frame]\u001b[0m\n",
      "File \u001b[0;32m~/anaconda3/envs/RLandML/lib/python3.11/site-packages/jax/_src/core.py:1492\u001b[0m, in \u001b[0;36mconcretization_function_error.<locals>.error\u001b[0;34m(self, arg)\u001b[0m\n\u001b[1;32m   1491\u001b[0m \u001b[38;5;28;01mdef\u001b[39;00m \u001b[38;5;21merror\u001b[39m(\u001b[38;5;28mself\u001b[39m, arg):\n\u001b[0;32m-> 1492\u001b[0m   \u001b[38;5;28;01mraise\u001b[39;00m TracerBoolConversionError(arg)\n",
      "\u001b[0;31mTracerBoolConversionError\u001b[0m: Attempted boolean conversion of traced array with shape bool[1]..\nThe error occurred while tracing the function step at /Users/carloteufel/Documents/ETH/Semester 6/RL/Project/HDS/src/env/Pendulum.py:89 for jit. This value became a tracer due to JAX operations on these lines:\n\n  operation a:u32[] = convert_element_type[new_dtype=uint32 weak_type=False] b\n    from line /Users/carloteufel/Documents/ETH/Semester 6/RL/Project/HDS/src/env/Pendulum.py:97:7 (InvertedPendulum.step)\nSee https://jax.readthedocs.io/en/latest/errors.html#jax.errors.TracerBoolConversionError"
     ]
    }
   ],
   "source": [
    "\n",
    "def progress_f(x_data,y_data,epoch,reward):\n",
    "    x_data.append(epoch)\n",
    "    y_data.append(reward)\n",
    "    clear_output(wait=True)\n",
    "    plt.xlabel('epoch')\n",
    "    plt.ylabel('total reward')\n",
    "    plt.plot(x_data, y_data)\n",
    "    plt.show()\n",
    "\n",
    "policy = train(env,trajectory_length=30,num_samples=100,epochs=100,alpha_a=0.001,progress_fn=progress_f)"
   ]
  },
  {
   "cell_type": "code",
   "execution_count": null,
   "metadata": {},
   "outputs": [
    {
     "ename": "TypeError",
     "evalue": "from_state_dict() missing 1 required positional argument: 'state'",
     "output_type": "error",
     "traceback": [
      "\u001b[0;31m---------------------------------------------------------------------------\u001b[0m",
      "\u001b[0;31mTypeError\u001b[0m                                 Traceback (most recent call last)",
      "Cell \u001b[0;32mIn[4], line 4\u001b[0m\n\u001b[1;32m      1\u001b[0m \u001b[38;5;28;01mwith\u001b[39;00m \u001b[38;5;28mopen\u001b[39m(\u001b[38;5;124m'\u001b[39m\u001b[38;5;124mparams.pkl\u001b[39m\u001b[38;5;124m'\u001b[39m, \u001b[38;5;124m'\u001b[39m\u001b[38;5;124mrb\u001b[39m\u001b[38;5;124m'\u001b[39m) \u001b[38;5;28;01mas\u001b[39;00m f:\n\u001b[1;32m      2\u001b[0m     params \u001b[38;5;241m=\u001b[39m pickle\u001b[38;5;241m.\u001b[39mload(f)\n\u001b[0;32m----> 4\u001b[0m params \u001b[38;5;241m=\u001b[39m \u001b[43mflax\u001b[49m\u001b[38;5;241;43m.\u001b[39;49m\u001b[43mserialization\u001b[49m\u001b[38;5;241;43m.\u001b[39;49m\u001b[43mfrom_state_dict\u001b[49m\u001b[43m(\u001b[49m\u001b[43mparams\u001b[49m\u001b[43m)\u001b[49m\n",
      "\u001b[0;31mTypeError\u001b[0m: from_state_dict() missing 1 required positional argument: 'state'"
     ]
    }
   ],
   "source": [
    "with open('params.pkl', 'rb') as f:\n",
    "    params = pickle.load(f)\n",
    "\n",
    "params = flax.serialization.from_state_dict(params)\n"
   ]
  }
 ],
 "metadata": {
  "kernelspec": {
   "display_name": "RLandML",
   "language": "python",
   "name": "python3"
  },
  "language_info": {
   "codemirror_mode": {
    "name": "ipython",
    "version": 3
   },
   "file_extension": ".py",
   "mimetype": "text/x-python",
   "name": "python",
   "nbconvert_exporter": "python",
   "pygments_lexer": "ipython3",
   "version": "3.11.8"
  }
 },
 "nbformat": 4,
 "nbformat_minor": 2
}
