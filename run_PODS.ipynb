{
 "cells": [
  {
   "cell_type": "code",
   "execution_count": 1,
   "metadata": {},
   "outputs": [],
   "source": [
    "import functools\n",
    "import jax\n",
    "import os\n",
    "import html\n",
    "\n",
    "from datetime import datetime\n",
    "from jax import numpy as jp\n",
    "jax.config.update(\"jax_debug_nans\", False)\n",
    "jax.config.update(\"jax_enable_x64\", True)\n",
    "import matplotlib.pyplot as plt\n",
    "\n",
    "from IPython.display import HTML, clear_output, display\n",
    "from brax.io import html\n",
    "\n",
    "import shutil\n",
    "\n",
    "from src.pods.Pods import train as train_pods\n",
    "from src.hds.Hds import train as train_hds\n",
    "from src.envs.original import Pendulum\n",
    "from src.dyn_model.Predict import pretrained_params\n",
    "\n",
    "\n"
   ]
  },
  {
   "cell_type": "code",
   "execution_count": 2,
   "metadata": {},
   "outputs": [
    {
     "name": "stdout",
     "output_type": "stream",
     "text": [
      "cpu\n",
      "[CpuDevice(id=0)]\n"
     ]
    }
   ],
   "source": [
    "from jax.lib import xla_bridge\n",
    "print(xla_bridge.get_backend().platform)\n",
    "print(jax.devices())"
   ]
  },
  {
   "cell_type": "markdown",
   "metadata": {},
   "source": []
  },
  {
   "cell_type": "code",
   "execution_count": 3,
   "metadata": {},
   "outputs": [
    {
     "name": "stdout",
     "output_type": "stream",
     "text": [
      "11\n"
     ]
    }
   ],
   "source": [
    "env = Pendulum.Pendulum()\n",
    "state = jax.jit(env.reset)(rng=jax.random.PRNGKey(seed=0))\n",
    "\n",
    "#HTML(html.render(env.sys, [state.pipeline_state]))"
   ]
  },
  {
   "cell_type": "code",
   "execution_count": 4,
   "metadata": {},
   "outputs": [],
   "source": [
    "ckpt_dir = './tmp/flax_ckpt'\n",
    "\n",
    "if os.path.exists(ckpt_dir):\n",
    "    shutil.rmtree(ckpt_dir)  # Remove any existing checkpoints from the last notebook run."
   ]
  },
  {
   "cell_type": "code",
   "execution_count": 5,
   "metadata": {},
   "outputs": [
    {
     "name": "stdout",
     "output_type": "stream",
     "text": [
      "11\n"
     ]
    }
   ],
   "source": [
    "\n",
    "def progress_f(x_data,y_data,epoch,reward):\n",
    "    print(reward)\n",
    "    x_data.append(epoch)\n",
    "    y_data.append(reward)\n",
    "    clear_output(wait=True)\n",
    "    plt.xlabel('epoch')\n",
    "    plt.ylabel('total reward')\n",
    "    plt.plot(x_data, y_data)\n",
    "    plt.show()\n",
    "\n",
    "policy = train_hds(env,trajectory_length=100 ,num_samples=100,epochs=20, inner_epochs=20, alpha_a=1.0, aggregation_factor_beta=1.0,init_learning_rate=1e-3, init_noise=0.1, noise_decay=0.5, progress_fn=progress_f) \n",
    "# policy = train_pods(env,trajectory_length=100 ,num_samples=50,epochs=20, inner_epochs=20, alpha_a=8e-5, init_learning_rate=1e-3, progress_fn=progress_f)"
   ]
  },
  {
   "cell_type": "code",
   "execution_count": 1,
   "metadata": {},
   "outputs": [
    {
     "ename": "NameError",
     "evalue": "name 'Pendulum' is not defined",
     "output_type": "error",
     "traceback": [
      "\u001b[0;31m---------------------------------------------------------------------------\u001b[0m",
      "\u001b[0;31mNameError\u001b[0m                                 Traceback (most recent call last)",
      "Cell \u001b[0;32mIn[1], line 1\u001b[0m\n\u001b[0;32m----> 1\u001b[0m bestest_env \u001b[38;5;241m=\u001b[39m Pendulum\u001b[38;5;241m.\u001b[39mPendulum()\n\u001b[1;32m      3\u001b[0m \u001b[38;5;28;01mdef\u001b[39;00m \u001b[38;5;21munroll_policy_good_env\u001b[39m(policy, env, num_steps\u001b[38;5;241m=\u001b[39m\u001b[38;5;241m1000\u001b[39m):\n\u001b[1;32m      4\u001b[0m     state \u001b[38;5;241m=\u001b[39m env\u001b[38;5;241m.\u001b[39mreset(rng\u001b[38;5;241m=\u001b[39mjax\u001b[38;5;241m.\u001b[39mrandom\u001b[38;5;241m.\u001b[39mPRNGKey(seed\u001b[38;5;241m=\u001b[39m\u001b[38;5;241m0\u001b[39m))\n",
      "\u001b[0;31mNameError\u001b[0m: name 'Pendulum' is not defined"
     ]
    }
   ],
   "source": [
    "bestest_env = Pendulum.Pendulum()\n",
    "\n",
    "def unroll_policy_good_env(policy, env, num_steps=1000):\n",
    "    state = env.reset(rng=jax.random.PRNGKey(seed=0))\n",
    "    states = [state]\n",
    "    actions = []\n",
    "    rewards = []\n",
    "    for _ in range(num_steps):\n",
    "        action = policy(jp.array(state.obs)).mode()\n",
    "        state = env.step(state, action)\n",
    "        states.append(state)\n",
    "        actions.append(action)\n",
    "        rewards.append(state.reward)\n",
    "    return states, actions, rewards\n",
    "\n",
    "states, actions, rewards = unroll_policy_good_env(policy, bestest_env, num_steps=1000)\n"
   ]
  },
  {
   "cell_type": "code",
   "execution_count": null,
   "metadata": {},
   "outputs": [],
   "source": [
    "\n",
    "yes=html.render(env.sys.replace(dt=env.dt), rollout)\n",
    "with open(\"data.html\", \"w\") as file:\n",
    "    file.write(yes)"
   ]
  }
 ],
 "metadata": {
  "kernelspec": {
   "display_name": "RLandML",
   "language": "python",
   "name": "python3"
  },
  "language_info": {
   "codemirror_mode": {
    "name": "ipython",
    "version": 3
   },
   "file_extension": ".py",
   "mimetype": "text/x-python",
   "name": "python",
   "nbconvert_exporter": "python",
   "pygments_lexer": "ipython3",
   "version": "3.11.8"
  }
 },
 "nbformat": 4,
 "nbformat_minor": 2
}
