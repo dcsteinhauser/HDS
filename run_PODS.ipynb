{
 "cells": [
  {
   "cell_type": "code",
   "execution_count": 1,
   "metadata": {},
   "outputs": [],
   "source": [
    "import functools\n",
    "import jax\n",
    "import os\n",
    "import html\n",
    "\n",
    "from datetime import datetime\n",
    "from jax import numpy as jp\n",
    "import matplotlib.pyplot as plt\n",
    "\n",
    "from IPython.display import HTML, clear_output, display\n",
    "\n",
    "import flax\n",
    "from brax import envs\n",
    "from brax.io import model\n",
    "from brax.io import json\n",
    "from brax.io import html\n",
    "\n",
    "from src.pods.pods import train\n",
    "from src.env.Pendulum import InvertedPendulum\n"
   ]
  },
  {
   "cell_type": "code",
   "execution_count": 2,
   "metadata": {},
   "outputs": [
    {
     "data": {
      "text/html": [
       "<!DOCTYPE html>\n",
       "<html>\n",
       "\n",
       "  <head>\n",
       "    <title>Brax visualizer</title>\n",
       "    <link rel=\"shortcut icon\" type=\"image/x-icon\" href=\"/favicon.ico\">\n",
       "  </head>\n",
       "\n",
       "  <style>\n",
       "    body {\n",
       "      margin: 0;\n",
       "      padding: 0;\n",
       "    }\n",
       "\n",
       "    #brax-viewer {\n",
       "      height: 480px;\n",
       "      margin: 0;\n",
       "      padding: 0;\n",
       "    }\n",
       "  </style>\n",
       "  <script async src=\"https://unpkg.com/es-module-shims@1.6.3/dist/es-module-shims.js\"></script>\n",
       "\n",
       "  <script type=\"importmap\">\n",
       "    {\n",
       "      \"imports\": {\n",
       "        \"three\": \"https://unpkg.com/three@0.150.1/build/three.module.js\",\n",
       "        \"three/addons/\": \"https://unpkg.com/three@0.150.1/examples/jsm/\",\n",
       "        \"lilgui\": \"https://cdn.jsdelivr.net/npm/lil-gui@0.18.0/+esm\",\n",
       "        \"viewer\": \"https://cdn.jsdelivr.net/gh/google/brax@v0.10.3/brax/visualizer/js/viewer.js\"\n",
       "      }\n",
       "    }\n",
       "  </script>\n",
       "\n",
       "  <script type=\"application/javascript\">\n",
       "  var system = {\"dt\": 0.019999999552965164, \"link_names\": [\"cart\", \"pole\"], \"name\": \"System\", \"geoms\": {\"world\": [{\"name\": \"Capsule\", \"link_idx\": -1, \"pos\": [0.0, 0.0, 0.0], \"rot\": [0.7071067690849304, 0.0, 0.7071067690849304, 0.0], \"rgba\": [1.0, 1.0, 1.0, 1.0], \"size\": [0.019999999552965164, 1.0, 0.0]}], \"cart\": [{\"name\": \"Capsule\", \"link_idx\": 0, \"pos\": [0.0, 0.0, 0.0], \"rot\": [0.7071067690849304, 0.0, 0.7071067690849304, 0.0], \"rgba\": [0.4000000059604645, 0.33000001311302185, 0.25999999046325684, 1.0], \"size\": [0.10000000149011612, 0.10000000149011612, 0.0]}], \"pole\": [{\"name\": \"Capsule\", \"link_idx\": 1, \"pos\": [0.0005000000237487257, 0.0, 0.30000001192092896], \"rot\": [0.0008333324803970754, -0.0, -0.9999996423721313, 0.0], \"rgba\": [0.4000000059604645, 0.33000001311302185, 0.25999999046325684, 1.0], \"size\": [0.04899999871850014, 0.3000004291534424, 0.0]}]}, \"states\": {\"x\": {\"pos\": [[[-0.008885481394827366, 0.0, 0.0], [-0.008885481394827366, 0.0, 0.0]]], \"rot\": [[[1.0, 0.0, 0.0, 0.0], [0.999994695186615, 0.0, -0.0032601356506347656, 0.0]]], \"name\": \"Transform\"}, \"contact\": null}};\n",
       "  </script>\n",
       "\n",
       "  <body>\n",
       "\n",
       "    <div id=\"brax-viewer\"></div>\n",
       "\n",
       "    <script type=\"module\">\n",
       "      import {Viewer} from 'viewer';\n",
       "      const domElement = document.getElementById(\"brax-viewer\");\n",
       "      var viewer = new Viewer(domElement, system);\n",
       "    </script>\n",
       "\n",
       "  </body>\n",
       "\n",
       "</html>"
      ],
      "text/plain": [
       "<IPython.core.display.HTML object>"
      ]
     },
     "execution_count": 2,
     "metadata": {},
     "output_type": "execute_result"
    }
   ],
   "source": [
    "env = InvertedPendulum()\n",
    "state = jax.jit(env.reset)(rng=jax.random.PRNGKey(seed=0))\n",
    "\n",
    "HTML(html.render(env.sys, [state.pipeline_state]))"
   ]
  },
  {
   "cell_type": "code",
   "execution_count": 3,
   "metadata": {},
   "outputs": [
    {
     "ename": "ValueError",
     "evalue": "vmap got inconsistent sizes for array axes to be mapped:\n  * most axes (57 of them) had size 100, e.g. axis 0 of argument state.pipeline_state.q of type float32[100,2];\n  * one axis had size 1: axis 0 of argument action of type float32[1]",
     "output_type": "error",
     "traceback": [
      "\u001b[0;31m---------------------------------------------------------------------------\u001b[0m",
      "\u001b[0;31mValueError\u001b[0m                                Traceback (most recent call last)",
      "Cell \u001b[0;32mIn[3], line 10\u001b[0m\n\u001b[1;32m      7\u001b[0m     plt\u001b[38;5;241m.\u001b[39mplot(x_data, y_data)\n\u001b[1;32m      8\u001b[0m     plt\u001b[38;5;241m.\u001b[39mshow()\n\u001b[0;32m---> 10\u001b[0m policy \u001b[38;5;241m=\u001b[39m \u001b[43mtrain\u001b[49m\u001b[43m(\u001b[49m\u001b[43menv\u001b[49m\u001b[43m,\u001b[49m\u001b[43mtrajectory_length\u001b[49m\u001b[38;5;241;43m=\u001b[39;49m\u001b[38;5;241;43m10\u001b[39;49m\u001b[43m,\u001b[49m\u001b[43mnum_samples\u001b[49m\u001b[38;5;241;43m=\u001b[39;49m\u001b[38;5;241;43m100\u001b[39;49m\u001b[43m,\u001b[49m\u001b[43mepochs\u001b[49m\u001b[38;5;241;43m=\u001b[39;49m\u001b[38;5;241;43m100\u001b[39;49m\u001b[43m,\u001b[49m\u001b[43malpha_a\u001b[49m\u001b[38;5;241;43m=\u001b[39;49m\u001b[38;5;241;43m0.01\u001b[39;49m\u001b[43m,\u001b[49m\u001b[43mprogress_fn\u001b[49m\u001b[38;5;241;43m=\u001b[39;49m\u001b[43mprogress_f\u001b[49m\u001b[43m)\u001b[49m\n",
      "File \u001b[0;32m~/Documents/Code/HDS/src/pods/pods.py:181\u001b[0m, in \u001b[0;36mtrain\u001b[0;34m(env, trajectory_length, num_samples, epochs, alpha_a, progress_fn)\u001b[0m\n\u001b[1;32m    179\u001b[0m file\u001b[38;5;241m.\u001b[39mclose()\n\u001b[1;32m    180\u001b[0m \u001b[38;5;66;03m# updated action sequence\u001b[39;00m\n\u001b[0;32m--> 181\u001b[0m updated_trajectories \u001b[38;5;241m=\u001b[39m (trajectories[\u001b[38;5;241m0\u001b[39m], \u001b[43mfo_update_action_sequence\u001b[49m\u001b[43m(\u001b[49m\u001b[43menvironment\u001b[49m\u001b[43m,\u001b[49m\u001b[43m \u001b[49m\u001b[43mtrajectories\u001b[49m\u001b[43m[\u001b[49m\u001b[38;5;241;43m1\u001b[39;49m\u001b[43m]\u001b[49m\u001b[43m,\u001b[49m\u001b[43m \u001b[49m\u001b[43msubkeys\u001b[49m\u001b[43m,\u001b[49m\u001b[43m \u001b[49m\u001b[43malpha_a\u001b[49m\u001b[43m)\u001b[49m)\n\u001b[1;32m    183\u001b[0m \u001b[38;5;66;03m# supervised learning\u001b[39;00m\n\u001b[1;32m    184\u001b[0m \u001b[38;5;28;01mfor\u001b[39;00m j \u001b[38;5;129;01min\u001b[39;00m \u001b[38;5;28mrange\u001b[39m(epochs):\n",
      "File \u001b[0;32m~/Documents/Code/HDS/src/pods/pods.py:96\u001b[0m, in \u001b[0;36mfo_update_action_sequence\u001b[0;34m(environment, actions, prng_key, alpha_a)\u001b[0m\n\u001b[1;32m     93\u001b[0m     _, rewards \u001b[38;5;241m=\u001b[39m jax\u001b[38;5;241m.\u001b[39mlax\u001b[38;5;241m.\u001b[39mscan(f\u001b[38;5;241m=\u001b[39mreward_step, init\u001b[38;5;241m=\u001b[39minitial_states, xs\u001b[38;5;241m=\u001b[39mactions)\n\u001b[1;32m     94\u001b[0m     \u001b[38;5;28;01mreturn\u001b[39;00m jnp\u001b[38;5;241m.\u001b[39msum(rewards, axis\u001b[38;5;241m=\u001b[39m\u001b[38;5;241m1\u001b[39m)\n\u001b[0;32m---> 96\u001b[0m grad \u001b[38;5;241m=\u001b[39m \u001b[43mjax\u001b[49m\u001b[38;5;241;43m.\u001b[39;49m\u001b[43mvmap\u001b[49m\u001b[43m(\u001b[49m\u001b[43mjax\u001b[49m\u001b[38;5;241;43m.\u001b[39;49m\u001b[43mgrad\u001b[49m\u001b[43m(\u001b[49m\u001b[43mtotal_reward\u001b[49m\u001b[43m,\u001b[49m\u001b[43m \u001b[49m\u001b[43margnums\u001b[49m\u001b[38;5;241;43m=\u001b[39;49m\u001b[38;5;241;43m1\u001b[39;49m\u001b[43m)\u001b[49m\u001b[43m,\u001b[49m\u001b[43m \u001b[49m\u001b[43min_axes\u001b[49m\u001b[38;5;241;43m=\u001b[39;49m\u001b[43m(\u001b[49m\u001b[38;5;28;43;01mNone\u001b[39;49;00m\u001b[43m,\u001b[49m\u001b[43m \u001b[49m\u001b[38;5;241;43m0\u001b[39;49m\u001b[43m,\u001b[49m\u001b[43m \u001b[49m\u001b[38;5;28;43;01mNone\u001b[39;49;00m\u001b[43m)\u001b[49m\u001b[43m,\u001b[49m\u001b[43m \u001b[49m\u001b[43mout_axes\u001b[49m\u001b[38;5;241;43m=\u001b[39;49m\u001b[38;5;241;43m0\u001b[39;49m\u001b[43m)\u001b[49m\u001b[43m(\u001b[49m\u001b[43menvironment\u001b[49m\u001b[43m,\u001b[49m\u001b[43m \u001b[49m\u001b[43mactions\u001b[49m\u001b[43m,\u001b[49m\u001b[43m \u001b[49m\u001b[43mprng_key\u001b[49m\u001b[43m)\u001b[49m\n\u001b[1;32m     98\u001b[0m improved_action_sequence \u001b[38;5;241m=\u001b[39m actions \u001b[38;5;241m+\u001b[39m alpha_a \u001b[38;5;241m*\u001b[39m grad\n\u001b[1;32m     99\u001b[0m \u001b[38;5;28;01mreturn\u001b[39;00m improved_action_sequence\n",
      "    \u001b[0;31m[... skipping hidden 13 frame]\u001b[0m\n",
      "File \u001b[0;32m~/Documents/Code/HDS/src/pods/pods.py:93\u001b[0m, in \u001b[0;36mfo_update_action_sequence.<locals>.total_reward\u001b[0;34m(environment, actions, prng_key)\u001b[0m\n\u001b[1;32m     89\u001b[0m     \u001b[38;5;28;01mreturn\u001b[39;00m environment\u001b[38;5;241m.\u001b[39mstep(states, action), states\u001b[38;5;241m.\u001b[39mreward\n\u001b[1;32m     92\u001b[0m initial_states \u001b[38;5;241m=\u001b[39m environment\u001b[38;5;241m.\u001b[39mreset(prng_key)\n\u001b[0;32m---> 93\u001b[0m _, rewards \u001b[38;5;241m=\u001b[39m \u001b[43mjax\u001b[49m\u001b[38;5;241;43m.\u001b[39;49m\u001b[43mlax\u001b[49m\u001b[38;5;241;43m.\u001b[39;49m\u001b[43mscan\u001b[49m\u001b[43m(\u001b[49m\u001b[43mf\u001b[49m\u001b[38;5;241;43m=\u001b[39;49m\u001b[43mreward_step\u001b[49m\u001b[43m,\u001b[49m\u001b[43m \u001b[49m\u001b[43minit\u001b[49m\u001b[38;5;241;43m=\u001b[39;49m\u001b[43minitial_states\u001b[49m\u001b[43m,\u001b[49m\u001b[43m \u001b[49m\u001b[43mxs\u001b[49m\u001b[38;5;241;43m=\u001b[39;49m\u001b[43mactions\u001b[49m\u001b[43m)\u001b[49m\n\u001b[1;32m     94\u001b[0m \u001b[38;5;28;01mreturn\u001b[39;00m jnp\u001b[38;5;241m.\u001b[39msum(rewards, axis\u001b[38;5;241m=\u001b[39m\u001b[38;5;241m1\u001b[39m)\n",
      "    \u001b[0;31m[... skipping hidden 9 frame]\u001b[0m\n",
      "File \u001b[0;32m~/Documents/Code/HDS/src/pods/pods.py:89\u001b[0m, in \u001b[0;36mfo_update_action_sequence.<locals>.total_reward.<locals>.reward_step\u001b[0;34m(states, action)\u001b[0m\n\u001b[1;32m     88\u001b[0m \u001b[38;5;28;01mdef\u001b[39;00m \u001b[38;5;21mreward_step\u001b[39m(states, action):\n\u001b[0;32m---> 89\u001b[0m     \u001b[38;5;28;01mreturn\u001b[39;00m \u001b[43menvironment\u001b[49m\u001b[38;5;241;43m.\u001b[39;49m\u001b[43mstep\u001b[49m\u001b[43m(\u001b[49m\u001b[43mstates\u001b[49m\u001b[43m,\u001b[49m\u001b[43m \u001b[49m\u001b[43maction\u001b[49m\u001b[43m)\u001b[49m, states\u001b[38;5;241m.\u001b[39mreward\n",
      "File \u001b[0;32m/opt/homebrew/anaconda3/envs/PODS/lib/python3.12/site-packages/brax/envs/wrappers/training.py:122\u001b[0m, in \u001b[0;36mAutoResetWrapper.step\u001b[0;34m(self, state, action)\u001b[0m\n\u001b[1;32m    120\u001b[0m   state\u001b[38;5;241m.\u001b[39minfo\u001b[38;5;241m.\u001b[39mupdate(steps\u001b[38;5;241m=\u001b[39msteps)\n\u001b[1;32m    121\u001b[0m state \u001b[38;5;241m=\u001b[39m state\u001b[38;5;241m.\u001b[39mreplace(done\u001b[38;5;241m=\u001b[39mjp\u001b[38;5;241m.\u001b[39mzeros_like(state\u001b[38;5;241m.\u001b[39mdone))\n\u001b[0;32m--> 122\u001b[0m state \u001b[38;5;241m=\u001b[39m \u001b[38;5;28;43mself\u001b[39;49m\u001b[38;5;241;43m.\u001b[39;49m\u001b[43menv\u001b[49m\u001b[38;5;241;43m.\u001b[39;49m\u001b[43mstep\u001b[49m\u001b[43m(\u001b[49m\u001b[43mstate\u001b[49m\u001b[43m,\u001b[49m\u001b[43m \u001b[49m\u001b[43maction\u001b[49m\u001b[43m)\u001b[49m\n\u001b[1;32m    124\u001b[0m \u001b[38;5;28;01mdef\u001b[39;00m \u001b[38;5;21mwhere_done\u001b[39m(x, y):\n\u001b[1;32m    125\u001b[0m   done \u001b[38;5;241m=\u001b[39m state\u001b[38;5;241m.\u001b[39mdone\n",
      "File \u001b[0;32m/opt/homebrew/anaconda3/envs/PODS/lib/python3.12/site-packages/brax/envs/wrappers/training.py:71\u001b[0m, in \u001b[0;36mVmapWrapper.step\u001b[0;34m(self, state, action)\u001b[0m\n\u001b[1;32m     70\u001b[0m \u001b[38;5;28;01mdef\u001b[39;00m \u001b[38;5;21mstep\u001b[39m(\u001b[38;5;28mself\u001b[39m, state: State, action: jax\u001b[38;5;241m.\u001b[39mArray) \u001b[38;5;241m-\u001b[39m\u001b[38;5;241m>\u001b[39m State:\n\u001b[0;32m---> 71\u001b[0m   \u001b[38;5;28;01mreturn\u001b[39;00m \u001b[43mjax\u001b[49m\u001b[38;5;241;43m.\u001b[39;49m\u001b[43mvmap\u001b[49m\u001b[43m(\u001b[49m\u001b[38;5;28;43mself\u001b[39;49m\u001b[38;5;241;43m.\u001b[39;49m\u001b[43menv\u001b[49m\u001b[38;5;241;43m.\u001b[39;49m\u001b[43mstep\u001b[49m\u001b[43m)\u001b[49m\u001b[43m(\u001b[49m\u001b[43mstate\u001b[49m\u001b[43m,\u001b[49m\u001b[43m \u001b[49m\u001b[43maction\u001b[49m\u001b[43m)\u001b[49m\n",
      "    \u001b[0;31m[... skipping hidden 2 frame]\u001b[0m\n",
      "File \u001b[0;32m/opt/homebrew/anaconda3/envs/PODS/lib/python3.12/site-packages/jax/_src/api.py:1322\u001b[0m, in \u001b[0;36m_mapped_axis_size\u001b[0;34m(fn, tree, vals, dims, name)\u001b[0m\n\u001b[1;32m   1320\u001b[0m   \u001b[38;5;28;01melse\u001b[39;00m:\n\u001b[1;32m   1321\u001b[0m     msg\u001b[38;5;241m.\u001b[39mappend(\u001b[38;5;124mf\u001b[39m\u001b[38;5;124m\"\u001b[39m\u001b[38;5;124m  * some axes (\u001b[39m\u001b[38;5;132;01m{\u001b[39;00mct\u001b[38;5;132;01m}\u001b[39;00m\u001b[38;5;124m of them) had size \u001b[39m\u001b[38;5;132;01m{\u001b[39;00msz\u001b[38;5;132;01m}\u001b[39;00m\u001b[38;5;124m, e.g. axis \u001b[39m\u001b[38;5;132;01m{\u001b[39;00max\u001b[38;5;132;01m}\u001b[39;00m\u001b[38;5;124m of \u001b[39m\u001b[38;5;132;01m{\u001b[39;00mex\u001b[38;5;132;01m}\u001b[39;00m\u001b[38;5;124m;\u001b[39m\u001b[38;5;130;01m\\n\u001b[39;00m\u001b[38;5;124m\"\u001b[39m)\n\u001b[0;32m-> 1322\u001b[0m \u001b[38;5;28;01mraise\u001b[39;00m \u001b[38;5;167;01mValueError\u001b[39;00m(\u001b[38;5;124m'\u001b[39m\u001b[38;5;124m'\u001b[39m\u001b[38;5;241m.\u001b[39mjoin(msg)[:\u001b[38;5;241m-\u001b[39m\u001b[38;5;241m2\u001b[39m])\n",
      "\u001b[0;31mValueError\u001b[0m: vmap got inconsistent sizes for array axes to be mapped:\n  * most axes (57 of them) had size 100, e.g. axis 0 of argument state.pipeline_state.q of type float32[100,2];\n  * one axis had size 1: axis 0 of argument action of type float32[1]"
     ]
    }
   ],
   "source": [
    "\n",
    "def progress_f(x_data,y_data,epoch,reward):\n",
    "    x_data.append(epoch)\n",
    "    y_data.append(reward)\n",
    "    clear_output(wait=True)\n",
    "    plt.xlabel('epoch')\n",
    "    plt.ylabel('total reward')\n",
    "    plt.plot(x_data, y_data)\n",
    "    plt.show()\n",
    "\n",
    "policy = train(env,trajectory_length=10,num_samples=100,epochs=100,alpha_a=0.01,progress_fn=progress_f)"
   ]
  }
 ],
 "metadata": {
  "kernelspec": {
   "display_name": "RLandML",
   "language": "python",
   "name": "python3"
  },
  "language_info": {
   "codemirror_mode": {
    "name": "ipython",
    "version": 3
   },
   "file_extension": ".py",
   "mimetype": "text/x-python",
   "name": "python",
   "nbconvert_exporter": "python",
   "pygments_lexer": "ipython3",
   "version": "3.12.3"
  }
 },
 "nbformat": 4,
 "nbformat_minor": 2
}
