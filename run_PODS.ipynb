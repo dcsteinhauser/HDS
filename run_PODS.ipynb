{
 "cells": [
  {
   "cell_type": "code",
   "execution_count": 1,
   "metadata": {},
   "outputs": [],
   "source": [
    "import functools\n",
    "import jax\n",
    "import os\n",
    "import html\n",
    "\n",
    "from datetime import datetime\n",
    "from jax import numpy as jp\n",
    "import matplotlib.pyplot as plt\n",
    "\n",
    "from IPython.display import HTML, clear_output, display\n",
    "\n",
    "import flax\n",
    "from brax import envs\n",
    "from brax.io import model\n",
    "from brax.io import json\n",
    "from brax.io import html\n",
    "\n",
    "from src.pods.pods import train\n",
    "from src.env.Pendulum import InvertedPendulum\n",
    "import pickle\n"
   ]
  },
  {
   "cell_type": "code",
   "execution_count": 2,
   "metadata": {},
   "outputs": [
    {
     "data": {
      "text/html": [
       "<!DOCTYPE html>\n",
       "<html>\n",
       "\n",
       "  <head>\n",
       "    <title>Brax visualizer</title>\n",
       "    <link rel=\"shortcut icon\" type=\"image/x-icon\" href=\"/favicon.ico\">\n",
       "  </head>\n",
       "\n",
       "  <style>\n",
       "    body {\n",
       "      margin: 0;\n",
       "      padding: 0;\n",
       "    }\n",
       "\n",
       "    #brax-viewer {\n",
       "      height: 480px;\n",
       "      margin: 0;\n",
       "      padding: 0;\n",
       "    }\n",
       "  </style>\n",
       "  <script async src=\"https://unpkg.com/es-module-shims@1.6.3/dist/es-module-shims.js\"></script>\n",
       "\n",
       "  <script type=\"importmap\">\n",
       "    {\n",
       "      \"imports\": {\n",
       "        \"three\": \"https://unpkg.com/three@0.150.1/build/three.module.js\",\n",
       "        \"three/addons/\": \"https://unpkg.com/three@0.150.1/examples/jsm/\",\n",
       "        \"lilgui\": \"https://cdn.jsdelivr.net/npm/lil-gui@0.18.0/+esm\",\n",
       "        \"viewer\": \"https://cdn.jsdelivr.net/gh/google/brax@v0.10.3/brax/visualizer/js/viewer.js\"\n",
       "      }\n",
       "    }\n",
       "  </script>\n",
       "\n",
       "  <script type=\"application/javascript\">\n",
       "  var system = {\"dt\": 0.019999999552965164, \"link_names\": [\"cart\", \"pole\"], \"name\": \"System\", \"geoms\": {\"world\": [{\"name\": \"Capsule\", \"link_idx\": -1, \"pos\": [0.0, 0.0, 0.0], \"rot\": [0.7071067690849304, 0.0, 0.7071067690849304, 0.0], \"rgba\": [1.0, 1.0, 1.0, 1.0], \"size\": [0.019999999552965164, 1.0, 0.0]}], \"cart\": [{\"name\": \"Capsule\", \"link_idx\": 0, \"pos\": [0.0, 0.0, 0.0], \"rot\": [0.7071067690849304, 0.0, 0.7071067690849304, 0.0], \"rgba\": [0.4000000059604645, 0.33000001311302185, 0.25999999046325684, 1.0], \"size\": [0.10000000149011612, 0.10000000149011612, 0.0]}], \"pole\": [{\"name\": \"Capsule\", \"link_idx\": 1, \"pos\": [0.0005000000237487257, 0.0, 0.30000001192092896], \"rot\": [0.0008333324803970754, -0.0, -0.9999996423721313, 0.0], \"rgba\": [0.4000000059604645, 0.33000001311302185, 0.25999999046325684, 1.0], \"size\": [0.04899999871850014, 0.3000004291534424, 0.0]}]}, \"states\": {\"x\": {\"pos\": [[[-0.008885481394827366, 0.0, 0.0], [-0.008885481394827366, 0.0, 0.0]]], \"rot\": [[[1.0, 0.0, 0.0, 0.0], [0.999994695186615, 0.0, -0.0032601356506347656, 0.0]]], \"name\": \"Transform\"}, \"contact\": null}};\n",
       "  </script>\n",
       "\n",
       "  <body>\n",
       "\n",
       "    <div id=\"brax-viewer\"></div>\n",
       "\n",
       "    <script type=\"module\">\n",
       "      import {Viewer} from 'viewer';\n",
       "      const domElement = document.getElementById(\"brax-viewer\");\n",
       "      var viewer = new Viewer(domElement, system);\n",
       "    </script>\n",
       "\n",
       "  </body>\n",
       "\n",
       "</html>"
      ],
      "text/plain": [
       "<IPython.core.display.HTML object>"
      ]
     },
     "execution_count": 2,
     "metadata": {},
     "output_type": "execute_result"
    }
   ],
   "source": [
    "env = InvertedPendulum()\n",
    "state = jax.jit(env.reset)(rng=jax.random.PRNGKey(seed=0))\n",
    "\n",
    "HTML(html.render(env.sys, [state.pipeline_state]))"
   ]
  },
  {
   "cell_type": "code",
   "execution_count": 3,
   "metadata": {},
   "outputs": [
    {
     "name": "stdout",
     "output_type": "stream",
     "text": [
      "(1, 1, 4) (1, 1, 1)\n",
      "HALLO\n",
      "Total Reward -79.33368\n"
     ]
    }
   ],
   "source": [
    "\n",
    "def progress_f(x_data,y_data,epoch,reward):\n",
    "    x_data.append(epoch)\n",
    "    y_data.append(reward)\n",
    "    clear_output(wait=True)\n",
    "    plt.xlabel('epoch')\n",
    "    plt.ylabel('total reward')\n",
    "    plt.plot(x_data, y_data)\n",
    "    plt.show()\n",
    "\n",
    "policy = train(env,trajectory_length=1,num_samples=1,epochs=1,alpha_a=0.001,progress_fn=progress_f)"
   ]
  },
  {
   "cell_type": "code",
   "execution_count": null,
   "metadata": {},
   "outputs": [
    {
     "ename": "TypeError",
     "evalue": "from_state_dict() missing 1 required positional argument: 'state'",
     "output_type": "error",
     "traceback": [
      "\u001b[0;31m---------------------------------------------------------------------------\u001b[0m",
      "\u001b[0;31mTypeError\u001b[0m                                 Traceback (most recent call last)",
      "Cell \u001b[0;32mIn[13], line 4\u001b[0m\n\u001b[1;32m      1\u001b[0m \u001b[38;5;28;01mwith\u001b[39;00m \u001b[38;5;28mopen\u001b[39m(\u001b[38;5;124m'\u001b[39m\u001b[38;5;124mparams.pkl\u001b[39m\u001b[38;5;124m'\u001b[39m, \u001b[38;5;124m'\u001b[39m\u001b[38;5;124mrb\u001b[39m\u001b[38;5;124m'\u001b[39m) \u001b[38;5;28;01mas\u001b[39;00m f:\n\u001b[1;32m      2\u001b[0m     params \u001b[38;5;241m=\u001b[39m pickle\u001b[38;5;241m.\u001b[39mload(f)\n\u001b[0;32m----> 4\u001b[0m params \u001b[38;5;241m=\u001b[39m \u001b[43mflax\u001b[49m\u001b[38;5;241;43m.\u001b[39;49m\u001b[43mserialization\u001b[49m\u001b[38;5;241;43m.\u001b[39;49m\u001b[43mfrom_state_dict\u001b[49m\u001b[43m(\u001b[49m\u001b[43mparams\u001b[49m\u001b[43m)\u001b[49m\n",
      "\u001b[0;31mTypeError\u001b[0m: from_state_dict() missing 1 required positional argument: 'state'"
     ]
    }
   ],
   "source": [
    "with open('params.pkl', 'rb') as f:\n",
    "    params = pickle.load(f)\n",
    "\n",
    "params = flax.serialization.from_state_dict(params)\n"
   ]
  }
 ],
 "metadata": {
  "kernelspec": {
   "display_name": "RLandML",
   "language": "python",
   "name": "python3"
  },
  "language_info": {
   "codemirror_mode": {
    "name": "ipython",
    "version": 3
   },
   "file_extension": ".py",
   "mimetype": "text/x-python",
   "name": "python",
   "nbconvert_exporter": "python",
   "pygments_lexer": "ipython3",
   "version": "3.12.3"
  }
 },
 "nbformat": 4,
 "nbformat_minor": 2
}
