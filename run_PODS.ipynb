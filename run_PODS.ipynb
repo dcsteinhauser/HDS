{
 "cells": [
  {
   "cell_type": "code",
   "execution_count": 1,
   "metadata": {},
   "outputs": [],
   "source": [
    "import functools\n",
    "import jax\n",
    "import os\n",
    "import html\n",
    "\n",
    "from datetime import datetime\n",
    "from jax import numpy as jp\n",
    "import matplotlib.pyplot as plt\n",
    "\n",
    "from IPython.display import HTML, clear_output, display\n",
    "\n",
    "import flax\n",
    "from brax import envs\n",
    "from brax.io import model\n",
    "from brax.io import json\n",
    "from brax.io import html\n",
    "\n",
    "from src.pods.pods import train\n",
    "from src.env.Pendulum import InvertedPendulum\n"
   ]
  },
  {
   "cell_type": "code",
   "execution_count": 2,
   "metadata": {},
   "outputs": [
    {
     "data": {
      "text/html": [
       "<!DOCTYPE html>\n",
       "<html>\n",
       "\n",
       "  <head>\n",
       "    <title>Brax visualizer</title>\n",
       "    <link rel=\"shortcut icon\" type=\"image/x-icon\" href=\"/favicon.ico\">\n",
       "  </head>\n",
       "\n",
       "  <style>\n",
       "    body {\n",
       "      margin: 0;\n",
       "      padding: 0;\n",
       "    }\n",
       "\n",
       "    #brax-viewer {\n",
       "      height: 480px;\n",
       "      margin: 0;\n",
       "      padding: 0;\n",
       "    }\n",
       "  </style>\n",
       "  <script async src=\"https://unpkg.com/es-module-shims@1.6.3/dist/es-module-shims.js\"></script>\n",
       "\n",
       "  <script type=\"importmap\">\n",
       "    {\n",
       "      \"imports\": {\n",
       "        \"three\": \"https://unpkg.com/three@0.150.1/build/three.module.js\",\n",
       "        \"three/addons/\": \"https://unpkg.com/three@0.150.1/examples/jsm/\",\n",
       "        \"lilgui\": \"https://cdn.jsdelivr.net/npm/lil-gui@0.18.0/+esm\",\n",
       "        \"viewer\": \"https://cdn.jsdelivr.net/gh/google/brax@v0.10.3/brax/visualizer/js/viewer.js\"\n",
       "      }\n",
       "    }\n",
       "  </script>\n",
       "\n",
       "  <script type=\"application/javascript\">\n",
       "  var system = {\"dt\": 0.019999999552965164, \"link_names\": [\"cart\", \"pole\"], \"name\": \"System\", \"geoms\": {\"world\": [{\"name\": \"Capsule\", \"link_idx\": -1, \"pos\": [0.0, 0.0, 0.0], \"rot\": [0.7071067690849304, 0.0, 0.7071067690849304, 0.0], \"rgba\": [1.0, 1.0, 1.0, 1.0], \"size\": [0.019999999552965164, 1.0, 0.0]}], \"cart\": [{\"name\": \"Capsule\", \"link_idx\": 0, \"pos\": [0.0, 0.0, 0.0], \"rot\": [0.7071067690849304, 0.0, 0.7071067690849304, 0.0], \"rgba\": [0.4000000059604645, 0.33000001311302185, 0.25999999046325684, 1.0], \"size\": [0.10000000149011612, 0.10000000149011612, 0.0]}], \"pole\": [{\"name\": \"Capsule\", \"link_idx\": 1, \"pos\": [0.0005000000237487257, 0.0, 0.30000001192092896], \"rot\": [0.0008333324803970754, -0.0, -0.9999996423721313, 0.0], \"rgba\": [0.4000000059604645, 0.33000001311302185, 0.25999999046325684, 1.0], \"size\": [0.04899999871850014, 0.3000004291534424, 0.0]}]}, \"states\": {\"x\": {\"pos\": [[[-0.008885481394827366, 0.0, 0.0], [-0.008885481394827366, 0.0, 0.0]]], \"rot\": [[[1.0, 0.0, 0.0, 0.0], [0.999994695186615, 0.0, -0.0032601356506347656, 0.0]]], \"name\": \"Transform\"}, \"contact\": null}};\n",
       "  </script>\n",
       "\n",
       "  <body>\n",
       "\n",
       "    <div id=\"brax-viewer\"></div>\n",
       "\n",
       "    <script type=\"module\">\n",
       "      import {Viewer} from 'viewer';\n",
       "      const domElement = document.getElementById(\"brax-viewer\");\n",
       "      var viewer = new Viewer(domElement, system);\n",
       "    </script>\n",
       "\n",
       "  </body>\n",
       "\n",
       "</html>"
      ],
      "text/plain": [
       "<IPython.core.display.HTML object>"
      ]
     },
     "execution_count": 2,
     "metadata": {},
     "output_type": "execute_result"
    }
   ],
   "source": [
    "env = InvertedPendulum()\n",
    "state = jax.jit(env.reset)(rng=jax.random.PRNGKey(seed=0))\n",
    "\n",
    "HTML(html.render(env.sys, [state.pipeline_state]))"
   ]
  },
  {
   "cell_type": "code",
   "execution_count": 3,
   "metadata": {},
   "outputs": [
    {
     "ename": "AttributeError",
     "evalue": "'tuple' object has no attribute 'values'",
     "output_type": "error",
     "traceback": [
      "\u001b[0;31m---------------------------------------------------------------------------\u001b[0m",
      "\u001b[0;31mAttributeError\u001b[0m                            Traceback (most recent call last)",
      "Cell \u001b[0;32mIn[3], line 10\u001b[0m\n\u001b[1;32m      7\u001b[0m     plt\u001b[38;5;241m.\u001b[39mplot(x_data, y_data)\n\u001b[1;32m      8\u001b[0m     plt\u001b[38;5;241m.\u001b[39mshow()\n\u001b[0;32m---> 10\u001b[0m policy \u001b[38;5;241m=\u001b[39m \u001b[43mtrain\u001b[49m\u001b[43m(\u001b[49m\u001b[43menv\u001b[49m\u001b[43m,\u001b[49m\u001b[43mtrajectory_length\u001b[49m\u001b[38;5;241;43m=\u001b[39;49m\u001b[38;5;241;43m10\u001b[39;49m\u001b[43m,\u001b[49m\u001b[43mnum_samples\u001b[49m\u001b[38;5;241;43m=\u001b[39;49m\u001b[38;5;241;43m100\u001b[39;49m\u001b[43m,\u001b[49m\u001b[43mepochs\u001b[49m\u001b[38;5;241;43m=\u001b[39;49m\u001b[38;5;241;43m100\u001b[39;49m\u001b[43m,\u001b[49m\u001b[43malpha_a\u001b[49m\u001b[38;5;241;43m=\u001b[39;49m\u001b[38;5;241;43m0.01\u001b[39;49m\u001b[43m,\u001b[49m\u001b[43mprogress_fn\u001b[49m\u001b[38;5;241;43m=\u001b[39;49m\u001b[43mprogress_f\u001b[49m\u001b[43m)\u001b[49m\n",
      "File \u001b[0;32m~/Documents/Code/HDS/src/pods/pods.py:184\u001b[0m, in \u001b[0;36mtrain\u001b[0;34m(env, trajectory_length, num_samples, epochs, alpha_a, progress_fn)\u001b[0m\n\u001b[1;32m    182\u001b[0m \u001b[38;5;66;03m# supervised learning\u001b[39;00m\n\u001b[1;32m    183\u001b[0m \u001b[38;5;28;01mfor\u001b[39;00m j \u001b[38;5;129;01min\u001b[39;00m \u001b[38;5;28mrange\u001b[39m(epochs):\n\u001b[0;32m--> 184\u001b[0m     \u001b[38;5;28;01mfor\u001b[39;00m states, actions \u001b[38;5;129;01min\u001b[39;00m \u001b[43mupdated_trajectories\u001b[49m\u001b[38;5;241;43m.\u001b[39;49m\u001b[43mvalues\u001b[49m():\n\u001b[1;32m    185\u001b[0m         \u001b[38;5;66;03m#print(\"states:\",states,\"actions:\",actions,\"train_state:\",train_state)\u001b[39;00m\n\u001b[1;32m    186\u001b[0m         train_state \u001b[38;5;241m=\u001b[39m update_policy(states, actions, train_state)\n\u001b[1;32m    187\u001b[0m     \u001b[38;5;28mprint\u001b[39m(\u001b[38;5;124m\"\u001b[39m\u001b[38;5;124msample:\u001b[39m\u001b[38;5;124m\"\u001b[39m,j,\u001b[38;5;124m\"\u001b[39m\u001b[38;5;124mout of \u001b[39m\u001b[38;5;124m\"\u001b[39m,epochs)\n",
      "\u001b[0;31mAttributeError\u001b[0m: 'tuple' object has no attribute 'values'"
     ]
    }
   ],
   "source": [
    "\n",
    "def progress_f(x_data,y_data,epoch,reward):\n",
    "    x_data.append(epoch)\n",
    "    y_data.append(reward)\n",
    "    clear_output(wait=True)\n",
    "    plt.xlabel('epoch')\n",
    "    plt.ylabel('total reward')\n",
    "    plt.plot(x_data, y_data)\n",
    "    plt.show()\n",
    "\n",
    "policy = train(env,trajectory_length=10,num_samples=100,epochs=100,alpha_a=0.01,progress_fn=progress_f)"
   ]
  }
 ],
 "metadata": {
  "kernelspec": {
   "display_name": "RLandML",
   "language": "python",
   "name": "python3"
  },
  "language_info": {
   "codemirror_mode": {
    "name": "ipython",
    "version": 3
   },
   "file_extension": ".py",
   "mimetype": "text/x-python",
   "name": "python",
   "nbconvert_exporter": "python",
   "pygments_lexer": "ipython3",
   "version": "3.12.3"
  }
 },
 "nbformat": 4,
 "nbformat_minor": 2
}
