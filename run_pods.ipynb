{
 "cells": [
  {
   "cell_type": "code",
   "execution_count": null,
   "metadata": {},
   "outputs": [],
   "source": [
    "import functools\n",
    "import jax\n",
    "import os\n",
    "import html\n",
    "\n",
    "from datetime import datetime\n",
    "from jax import numpy as jp\n",
    "import matplotlib.pyplot as plt\n",
    "import jax.scipy.optimize\n",
    "\n",
    "from IPython.display import HTML, clear_output, display\n",
    "\n",
    "import flax\n",
    "from brax import envs\n",
    "from brax.io import model\n",
    "from brax.io import json\n",
    "from brax.io import html\n",
    "\n",
    "from src.pods.pods import train\n",
    "from src.env.Pendulum import InvertedPendulum\n",
    "import pickle"
   ]
  },
  {
   "cell_type": "code",
   "execution_count": null,
   "metadata": {},
   "outputs": [],
   "source": [
    "from jax.lib import xla_bridge\n",
    "print(xla_bridge.get_backend().platform)\n",
    "print(jax.devices())"
   ]
  },
  {
   "cell_type": "code",
   "execution_count": null,
   "metadata": {},
   "outputs": [],
   "source": [
    "env = InvertedPendulum()\n",
    "state = jax.jit(env.reset)(rng=jax.random.PRNGKey(seed=0))\n",
    "\n",
    "HTML(html.render(env.sys, [state.pipeline_state]))"
   ]
  },
  {
   "cell_type": "code",
   "execution_count": null,
   "metadata": {},
   "outputs": [],
   "source": [
    "def progress_f(x_data,y_data,epoch,reward):\n",
    "    x_data.append(epoch)\n",
    "    y_data.append(reward)\n",
    "    clear_output(wait=True)\n",
    "    plt.xlabel('epoch')\n",
    "    plt.ylabel('total reward')\n",
    "    plt.plot(x_data, y_data)\n",
    "    plt.show()\n",
    "\n",
    "policy = train(env,trajectory_length=30,num_samples=4,epochs=1000, inner_epochs=20, alpha_a=1e-6,progress_fn=progress_f)"
   ]
  }
 ],
 "metadata": {
  "language_info": {
   "name": "python"
  }
 },
 "nbformat": 4,
 "nbformat_minor": 2
}
