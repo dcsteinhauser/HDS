{
 "cells": [
  {
   "cell_type": "code",
   "execution_count": 1,
   "metadata": {},
   "outputs": [
    {
     "name": "stderr",
     "output_type": "stream",
     "text": [
      "WARNING:absl:Type handler registry overriding type \"<class 'float'>\" collision on scalar\n",
      "WARNING:absl:Type handler registry overriding type \"<class 'bytes'>\" collision on scalar\n",
      "WARNING:absl:Type handler registry overriding type \"<class 'numpy.number'>\" collision on scalar\n",
      "WARNING:absl:Tensorflow library not found, tensorflow.io.gfile operations will use native shim calls. GCS paths (i.e. 'gs://...') cannot be accessed.\n"
     ]
    }
   ],
   "source": [
    "import os\n",
    "import jax\n",
    "import html\n",
    "import numpy as np\n",
    "from jax import numpy as jp\n",
    "import matplotlib.pyplot as plt\n",
    "\n",
    "jax.config.update(\"jax_debug_nans\", False)\n",
    "jax.config.update(\"jax_enable_x64\", True)\n",
    "\n",
    "from IPython.display import HTML, clear_output, display\n",
    "from brax.io import html\n",
    "\n",
    "from src.pods.Pods import train as train_pods\n",
    "from src.hds.Hds import train as train_hds\n",
    "from src.envs.train import Pendulum \n",
    "from src.envs.realistic import RealisticPendulum \n",
    "from functools import partial"
   ]
  },
  {
   "cell_type": "code",
   "execution_count": 2,
   "metadata": {},
   "outputs": [
    {
     "name": "stdout",
     "output_type": "stream",
     "text": [
      "cpu\n",
      "[CpuDevice(id=0)]\n"
     ]
    }
   ],
   "source": [
    "from jax.lib import xla_bridge\n",
    "print(xla_bridge.get_backend().platform)\n",
    "print(jax.devices())"
   ]
  },
  {
   "cell_type": "code",
   "execution_count": 3,
   "metadata": {},
   "outputs": [
    {
     "data": {
      "text/html": [
       "<!DOCTYPE html>\n",
       "<html>\n",
       "\n",
       "  <head>\n",
       "    <title>Brax visualizer</title>\n",
       "    <link rel=\"shortcut icon\" type=\"image/x-icon\" href=\"/favicon.ico\">\n",
       "  </head>\n",
       "\n",
       "  <style>\n",
       "    body {\n",
       "      margin: 0;\n",
       "      padding: 0;\n",
       "    }\n",
       "\n",
       "    #brax-viewer {\n",
       "      height: 480px;\n",
       "      margin: 0;\n",
       "      padding: 0;\n",
       "    }\n",
       "  </style>\n",
       "  <script async src=\"https://unpkg.com/es-module-shims@1.6.3/dist/es-module-shims.js\"></script>\n",
       "\n",
       "  <script type=\"importmap\">\n",
       "    {\n",
       "      \"imports\": {\n",
       "        \"three\": \"https://unpkg.com/three@0.150.1/build/three.module.js\",\n",
       "        \"three/addons/\": \"https://unpkg.com/three@0.150.1/examples/jsm/\",\n",
       "        \"lilgui\": \"https://cdn.jsdelivr.net/npm/lil-gui@0.18.0/+esm\",\n",
       "        \"viewer\": \"https://cdn.jsdelivr.net/gh/google/brax@v0.10.4/brax/visualizer/js/viewer.js\"\n",
       "      }\n",
       "    }\n",
       "  </script>\n",
       "\n",
       "  <script src=\"https://unpkg.com/pako@2.1.0/dist/pako.min.js\"></script>\n",
       "\n",
       "  <script type=\"application/javascript\">\n",
       "  var system = \"eJy1U01rwzAM/SvB57ZY/vau+wE7bLdQRtZmJTSJQ+KybiX/fbLzQToK66U6CKynZ+nJ8oW4xpOn5EJ8UeWdzxs80A1lq4TUWZXjibw0vnA16TFUFvXxPcQ7BFKyy1pPMNy4MifbBeX1G6+qAnTIXdXFAl+uLfeBdpnTnrOmOyF1urnYnzG8hnhlLIGtrJLJhQqt80NcUw1UaQNglBRazWk3gUg9fGSBCyHvygW0K37ysSKKh7lmH8Ao9I7W6WM7pxtBB5NWUaGEDCmcxxBwAE4ZmBhk0kbDLM6kMuKGUAiJsJAZ3/EOmdcPhN3MEviVUoQMR2NCSaYtM8quknVMRT80GBBthKDm0XKpsJEf6QIUGteaT/rDfnc+8/mwrufoR5VpumYbwZgGZZVgWmo7Eqem/0nYLuaSDhv4d0HSOBHDkWm1AgEWRjxMDAw2za0EbQHYPK3t8te9tVndfbq2in9152qf7ULF+lSWff8LBhTxyg==\";\n",
       "  // decode base64 (convert ascii to binary)\n",
       "  system = atob(system);\n",
       "  // convert binary string to character-number array\n",
       "  system = system.split('').map(function(x){return x.charCodeAt(0);});\n",
       "  // decompress\n",
       "  system = pako.inflate(system);\n",
       "  // convert gunzipped byteArray back to ascii string\n",
       "  system = new TextDecoder(\"utf-8\").decode(system);\n",
       "  // and load json\n",
       "  system = JSON.parse(system);\n",
       "  </script>\n",
       "\n",
       "  <body>\n",
       "\n",
       "    <div id=\"brax-viewer\"></div>\n",
       "\n",
       "    <script type=\"module\">\n",
       "      import {Viewer} from 'viewer';\n",
       "      const domElement = document.getElementById(\"brax-viewer\");\n",
       "      var viewer = new Viewer(domElement, system);\n",
       "    </script>\n",
       "\n",
       "  </body>\n",
       "\n",
       "</html>"
      ],
      "text/plain": [
       "<IPython.core.display.HTML object>"
      ]
     },
     "execution_count": 3,
     "metadata": {},
     "output_type": "execute_result"
    }
   ],
   "source": [
    "# Initialize the train environment\n",
    "env = Pendulum.Pendulum()\n",
    "\n",
    "# Render an initial state of the environment\n",
    "state = jax.jit(env.reset)(rng=jax.random.PRNGKey(seed=0))\n",
    "HTML(html.render(env.sys, [state.pipeline_state]))"
   ]
  },
  {
   "cell_type": "code",
   "execution_count": 4,
   "metadata": {},
   "outputs": [],
   "source": [
    "# Define a progress function which can be passed to either the PODS or HDS training functions\n",
    "def progress_f(x_data,y_data,epoch,reward):\n",
    "    print(reward)\n",
    "    x_data.append(epoch)\n",
    "    y_data.append(reward)\n",
    "    clear_output(wait=True)\n",
    "    plt.xlabel('Epoch')\n",
    "    plt.ylabel('Total Reward')\n",
    "    plt.plot(x_data, y_data)\n",
    "    plt.show()"
   ]
  },
  {
   "cell_type": "code",
   "execution_count": 5,
   "metadata": {},
   "outputs": [
    {
     "data": {
      "image/png": "[encoded data removed]",
      "text/plain": [
       "<Figure size 640x480 with 1 Axes>"
      ]
     },
     "metadata": {},
     "output_type": "display_data"
    },
    {
     "name": "stdout",
     "output_type": "stream",
     "text": [
      "big epoch: 29 small epoch: 0 Loss 0.0005457884663688633\n",
      "big epoch: 29 small epoch: 1 Loss 0.0005839078587333127\n",
      "big epoch: 29 small epoch: 2 Loss 0.0019957709495262285\n",
      "big epoch: 29 small epoch: 3 Loss 0.0013747134225770574\n",
      "big epoch: 29 small epoch: 4 Loss 8.403418649477896e-05\n",
      "big epoch: 29 small epoch: 5 Loss 0.0010433688254515602\n",
      "big epoch: 29 small epoch: 6 Loss 0.00028530102453256387\n",
      "big epoch: 29 small epoch: 7 Loss 0.00017899456415332662\n",
      "big epoch: 29 small epoch: 8 Loss 0.00026987082680293885\n",
      "big epoch: 29 small epoch: 9 Loss 0.00020775864698150816\n",
      "big epoch: 29 small epoch: 10 Loss 0.00015689800695644984\n",
      "big epoch: 29 small epoch: 11 Loss 0.00027261828988181606\n",
      "big epoch: 29 small epoch: 12 Loss 0.0001258915257361787\n",
      "big epoch: 29 small epoch: 13 Loss 0.0001480897260790151\n",
      "big epoch: 29 small epoch: 14 Loss 0.0003010498402431818\n",
      "big epoch: 29 small epoch: 15 Loss 7.155780236038318e-05\n",
      "big epoch: 29 small epoch: 16 Loss 0.0004577337904677495\n",
      "big epoch: 29 small epoch: 17 Loss 0.0004235709524246065\n",
      "big epoch: 29 small epoch: 18 Loss 0.00014365364584714287\n",
      "big epoch: 29 small epoch: 19 Loss 0.0005326959037799125\n"
     ]
    }
   ],
   "source": [
    "policy_pods = train_pods(env,trajectory_length=100 ,num_samples=50,epochs=30, inner_epochs=20, alpha_a_init=2e-2, init_learning_rate=1e-3, progress_fn=progress_f)"
   ]
  },
  {
   "cell_type": "code",
   "execution_count": 13,
   "metadata": {},
   "outputs": [
    {
     "data": {
      "image/png": "[encoded data removed]",
      "text/plain": [
       "<Figure size 640x480 with 1 Axes>"
      ]
     },
     "metadata": {},
     "output_type": "display_data"
    },
    {
     "name": "stdout",
     "output_type": "stream",
     "text": [
      "big epoch: 27 small epoch: 0 Loss 7.950889706716239e-05\n",
      "big epoch: 27 small epoch: 1 Loss 0.0008747135255518882\n",
      "big epoch: 27 small epoch: 2 Loss 0.0010312055927790696\n",
      "big epoch: 27 small epoch: 3 Loss 6.15047116489653e-05\n",
      "big epoch: 27 small epoch: 4 Loss 8.102525081119664e-05\n",
      "big epoch: 27 small epoch: 5 Loss 2.1922941042360218e-05\n",
      "big epoch: 27 small epoch: 6 Loss 3.488409282718418e-05\n",
      "big epoch: 27 small epoch: 7 Loss 1.9445932464417713e-05\n",
      "big epoch: 27 small epoch: 8 Loss 2.33738107990607e-05\n",
      "big epoch: 27 small epoch: 9 Loss 1.797646509897408e-05\n",
      "big epoch: 27 small epoch: 10 Loss 2.0269434136166756e-05\n",
      "big epoch: 27 small epoch: 11 Loss 1.8726213797955265e-05\n",
      "big epoch: 27 small epoch: 12 Loss 1.9009367969152538e-05\n",
      "big epoch: 27 small epoch: 13 Loss 1.705836897768296e-05\n",
      "big epoch: 27 small epoch: 14 Loss 1.792336818109192e-05\n",
      "big epoch: 27 small epoch: 15 Loss 1.7015275106417175e-05\n",
      "big epoch: 27 small epoch: 16 Loss 1.715357788775545e-05\n",
      "big epoch: 27 small epoch: 17 Loss 1.718767249742022e-05\n",
      "big epoch: 27 small epoch: 18 Loss 1.7450801872304285e-05\n",
      "big epoch: 27 small epoch: 19 Loss 1.7127124447288094e-05\n"
     ]
    }
   ],
   "source": [
    "policy_hds = train_hds(env,trajectory_length=100 ,num_samples=50,epochs=30, inner_epochs=20, alpha_a_init=2e-3, aggregation_factor_beta=0.05, init_learning_rate=1e-3, init_noise=0.1, noise_decay=0.5, progress_fn=progress_f) "
   ]
  },
  {
   "cell_type": "code",
   "execution_count": 10,
   "metadata": {},
   "outputs": [],
   "source": [
    "realistic_env = RealisticPendulum.RealisticPendulum()\n",
    "# inference_fn_hds = policy_hds()\n",
    "inference_fn_pods = policy_pods()\n",
    "inference_fn_hds = policy_hds()\n",
    "\n",
    "@partial(jax.vmap, in_axes=(None, None, None, 0), axis_name=\"batch\")\n",
    "def rollout_policy(\n",
    "        env, inference_fn, trajectory_length: int, prng_keys\n",
    "    ):\n",
    "\n",
    "    def step_trajectory(state_carry, rng_key):\n",
    "        action = inference_fn(state_carry.obs)\n",
    "        next_state = env.step(state_carry, action)\n",
    "        return next_state, (state_carry.obs, action, next_state.reward)\n",
    "\n",
    "    state = env.reset(prng_keys)\n",
    "    keys = jax.random.split(prng_keys, trajectory_length)\n",
    "    _, (states, actions, rewards_future) = jax.lax.scan(\n",
    "        step_trajectory, state, xs=keys\n",
    "    )\n",
    "\n",
    "    states = jax.numpy.reshape(\n",
    "        states, (trajectory_length, env.observation_size)\n",
    "    )\n",
    "    actions = jax.numpy.reshape(\n",
    "        actions, (trajectory_length, env.action_size)\n",
    "    )\n",
    "\n",
    "    totalreward = jp.sum(rewards_future)\n",
    "\n",
    "    return states, actions, totalreward\n",
    "\n",
    "prng_key = jax.random.PRNGKey(seed=1)\n",
    "subkeys = jax.random.split(prng_key, num=50)\n",
    "\n",
    "_, _ , rewards_original_pods  = rollout_policy(env, inference_fn_pods, 100, subkeys)\n",
    "_, _ , rewards_realistic_pods = rollout_policy(realistic_env, inference_fn_pods, 100, subkeys)\n",
    "# _, _ , rewards_hds = rollout_policy(realistic_env, inference_fn_hds, 100, subkeys)\n",
    "# _, _ , rewards_hds_train_env = rollout_policy(env, inference_fn_hds, 100, subkeys)\n",
    "\n",
    "_, _ , rewards_original_hds  = rollout_policy(env, inference_fn_hds, 100, subkeys)\n",
    "_, _ , rewards_realistic_hds = rollout_policy(realistic_env, inference_fn_hds, 100, subkeys)\n",
    "\n",
    "average_reward_original_pods = jp.mean(rewards_original_pods)\n",
    "average_reward_realistic = jp.mean(rewards_realistic_pods)\n",
    "average_reward_original_hds = jp.mean(rewards_original_hds)\n",
    "average_reward_realistic_hds = jp.mean(rewards_realistic_hds)\n",
    "\n",
    "# average_reward_hds = jp.mean(rewards_hds)\n",
    "# average_reward_hds_train_env = jp.mean(rewards_hds_train_env)"
   ]
  },
  {
   "cell_type": "code",
   "execution_count": 11,
   "metadata": {},
   "outputs": [
    {
     "name": "stdout",
     "output_type": "stream",
     "text": [
      "PODS on real environment -969.7220960760724\n",
      "PODS on train environment -847.8772842825603\n",
      "HDS on real environment -1150.7078841556613\n",
      "HDS on train environment -1602.259872731968\n"
     ]
    }
   ],
   "source": [
    "print(f'PODS on real environment {jp.mean(jp.array(average_reward_realistic))}')\n",
    "print(f'PODS on train environment {jp.mean(jp.array(average_reward_original_pods))}')\n",
    "print(f'HDS on real environment {jp.mean(jp.array(average_reward_realistic_hds))}')\n",
    "print(f'HDS on train environment {jp.mean(jp.array(average_reward_original_hds))}')\n",
    "# print(f'HDS on real environment {jp.mean(jp.array(average_reward_hds))}')\n",
    "# print(f'HDS on train environment {jp.mean(jp.array(average_reward_hds_train_env))}')"
   ]
  },
  {
   "cell_type": "code",
   "execution_count": 9,
   "metadata": {},
   "outputs": [
    {
     "ename": "TypeError",
     "evalue": "train() got an unexpected keyword argument 'alpha_a'",
     "output_type": "error",
     "traceback": [
      "\u001b[0;31m---------------------------------------------------------------------------\u001b[0m",
      "\u001b[0;31mTypeError\u001b[0m                                 Traceback (most recent call last)",
      "Cell \u001b[0;32mIn[9], line 17\u001b[0m\n\u001b[1;32m     13\u001b[0m     \u001b[38;5;28;01mreturn\u001b[39;00m average_reward_hds_real_env\n\u001b[1;32m     15\u001b[0m aggregation_factors \u001b[38;5;241m=\u001b[39m np\u001b[38;5;241m.\u001b[39mlinspace(\u001b[38;5;241m0.0\u001b[39m,\u001b[38;5;241m0.3\u001b[39m,\u001b[38;5;241m5\u001b[39m)\n\u001b[0;32m---> 17\u001b[0m rewards_dep_aggregation_factor \u001b[38;5;241m=\u001b[39m [\u001b[43mrun_over_aggregation_factor\u001b[49m\u001b[43m(\u001b[49m\u001b[43mx\u001b[49m\u001b[43m)\u001b[49m \u001b[38;5;28;01mfor\u001b[39;00m x \u001b[38;5;129;01min\u001b[39;00m aggregation_factors]\n\u001b[1;32m     18\u001b[0m rewards_pods_real_env \u001b[38;5;241m=\u001b[39m [average_reward_realistic \u001b[38;5;28;01mfor\u001b[39;00m _ \u001b[38;5;129;01min\u001b[39;00m aggregation_factors]\n\u001b[1;32m     19\u001b[0m rewards_pods_train_env \u001b[38;5;241m=\u001b[39m [average_reward_original_pods \u001b[38;5;28;01mfor\u001b[39;00m _ \u001b[38;5;129;01min\u001b[39;00m aggregation_factors]\n",
      "Cell \u001b[0;32mIn[9], line 2\u001b[0m, in \u001b[0;36mrun_over_aggregation_factor\u001b[0;34m(aggregation_factor_beta)\u001b[0m\n\u001b[1;32m      1\u001b[0m \u001b[38;5;28;01mdef\u001b[39;00m \u001b[38;5;21mrun_over_aggregation_factor\u001b[39m(aggregation_factor_beta):\n\u001b[0;32m----> 2\u001b[0m     policy \u001b[38;5;241m=\u001b[39m \u001b[43mtrain_hds\u001b[49m\u001b[43m(\u001b[49m\u001b[43menv\u001b[49m\u001b[43m,\u001b[49m\u001b[43mtrajectory_length\u001b[49m\u001b[38;5;241;43m=\u001b[39;49m\u001b[38;5;241;43m100\u001b[39;49m\u001b[43m \u001b[49m\u001b[43m,\u001b[49m\u001b[43mnum_samples\u001b[49m\u001b[38;5;241;43m=\u001b[39;49m\u001b[38;5;241;43m50\u001b[39;49m\u001b[43m,\u001b[49m\u001b[43mepochs\u001b[49m\u001b[38;5;241;43m=\u001b[39;49m\u001b[38;5;241;43m20\u001b[39;49m\u001b[43m,\u001b[49m\u001b[43m \u001b[49m\u001b[43minner_epochs\u001b[49m\u001b[38;5;241;43m=\u001b[39;49m\u001b[38;5;241;43m20\u001b[39;49m\u001b[43m,\u001b[49m\u001b[43m \u001b[49m\u001b[43malpha_a\u001b[49m\u001b[38;5;241;43m=\u001b[39;49m\u001b[38;5;241;43m2e-5\u001b[39;49m\u001b[43m,\u001b[49m\u001b[43m \u001b[49m\u001b[43maggregation_factor_beta\u001b[49m\u001b[38;5;241;43m=\u001b[39;49m\u001b[43maggregation_factor_beta\u001b[49m\u001b[43m,\u001b[49m\n\u001b[1;32m      3\u001b[0m \u001b[43m                       \u001b[49m\u001b[43minit_learning_rate\u001b[49m\u001b[38;5;241;43m=\u001b[39;49m\u001b[38;5;241;43m1e-3\u001b[39;49m\u001b[43m,\u001b[49m\u001b[43m \u001b[49m\u001b[43minit_noise\u001b[49m\u001b[38;5;241;43m=\u001b[39;49m\u001b[38;5;241;43m0.0\u001b[39;49m\u001b[43m,\u001b[49m\u001b[43m \u001b[49m\u001b[43mnoise_decay\u001b[49m\u001b[38;5;241;43m=\u001b[39;49m\u001b[38;5;241;43m0.0\u001b[39;49m\u001b[43m,\u001b[49m\u001b[43m \u001b[49m\u001b[43mprogress_fn\u001b[49m\u001b[38;5;241;43m=\u001b[39;49m\u001b[43mprogress_f\u001b[49m\u001b[43m)\u001b[49m \n\u001b[1;32m      4\u001b[0m     inference_fn \u001b[38;5;241m=\u001b[39m policy()\n\u001b[1;32m      6\u001b[0m     prng_key \u001b[38;5;241m=\u001b[39m jax\u001b[38;5;241m.\u001b[39mrandom\u001b[38;5;241m.\u001b[39mPRNGKey(seed\u001b[38;5;241m=\u001b[39m\u001b[38;5;241m0\u001b[39m)\n",
      "\u001b[0;31mTypeError\u001b[0m: train() got an unexpected keyword argument 'alpha_a'"
     ]
    }
   ],
   "source": [
    "def run_over_aggregation_factor(aggregation_factor_beta):\n",
    "    policy = train_hds(env,trajectory_length=100 ,num_samples=50,epochs=20, inner_epochs=20, alpha_a_init=2e-5, aggregation_factor_beta=aggregation_factor_beta,\n",
    "                       init_learning_rate=1e-3, init_noise=0.0, noise_decay=0.0, progress_fn=progress_f) \n",
    "    inference_fn = policy()\n",
    "    \n",
    "    prng_key = jax.random.PRNGKey(seed=0)\n",
    "    subkeys = jax.random.split(prng_key, num=50)\n",
    "    _, _ , rewards_hds_real_env  = rollout_policy(realistic_env, inference_fn, 100, subkeys)\n",
    "    average_reward_hds_real_env = jp.mean(rewards_hds_real_env)\n",
    "    print(aggregation_factor_beta)\n",
    "    del policy\n",
    "    del inference_fn\n",
    "    return average_reward_hds_real_env\n",
    "\n",
    "aggregation_factors = np.linspace(0.0,0.3,5)\n",
    "\n",
    "rewards_dep_aggregation_factor = [run_over_aggregation_factor(x) for x in aggregation_factors]\n",
    "rewards_pods_real_env = [average_reward_realistic for _ in aggregation_factors]\n",
    "rewards_pods_train_env = [average_reward_original_pods for _ in aggregation_factors]\n",
    "\n",
    "plt.figure(figsize=(10, 6))\n",
    "clear_output(wait=True)\n",
    "plt.plot(aggregation_factors, rewards_dep_aggregation_factor, label='HDS on Real Environment (Ours)', color='green')\n",
    "plt.plot(aggregation_factors, rewards_pods_real_env, label='PODS on Real Environment, Mean', color='red')\n",
    "plt.plot(aggregation_factors, rewards_pods_train_env, label='PODS on Train Environment, Mean', color='blue')\n",
    "plt.legend()\n",
    "plt.xlabel('Aggregation Factor')\n",
    "plt.ylabel('Total Reward')\n",
    "plt.title('Total Reward across Aggregation Factors')\n",
    "plt.grid(True)\n",
    "plt.show()\n",
    "\n"
   ]
  },
  {
   "cell_type": "code",
   "execution_count": null,
   "metadata": {},
   "outputs": [],
   "source": [
    "f = open(\"reward.txt\", \"w\")\n",
    "g = open(\"actions.txt\", \"w\")\n",
    "inference_fn = policy_hds()\n",
    "rollout = []\n",
    "rng = jax.random.PRNGKey(seed=1)\n",
    "state = env.reset(rng=rng)\n",
    "reward = []\n",
    "actions = []\n",
    "for _ in range(1000):\n",
    "  rollout.append(state.pipeline_state)\n",
    "  act_rng, rng = jax.random.split(rng)\n",
    "  act = inference_fn(state.obs)\n",
    "  reward.append(state.reward)\n",
    "  state = env.step(state, act)\n",
    "  actions.append(act)\n",
    "\n",
    "print(reward, file=f)\n",
    "print(actions, file=g)"
   ]
  },
  {
   "cell_type": "code",
   "execution_count": null,
   "metadata": {},
   "outputs": [],
   "source": [
    "\n",
    "yes=html.render(env.sys.replace(), rollout)\n",
    "with open(\"data.html\", \"w\") as file:\n",
    "    file.write(yes)"
   ]
  }
 ],
 "metadata": {
  "kernelspec": {
   "display_name": "RLandML",
   "language": "python",
   "name": "python3"
  },
  "language_info": {
   "codemirror_mode": {
    "name": "ipython",
    "version": 3
   },
   "file_extension": ".py",
   "mimetype": "text/x-python",
   "name": "python",
   "nbconvert_exporter": "python",
   "pygments_lexer": "ipython3",
   "version": "3.12.3"
  }
 },
 "nbformat": 4,
 "nbformat_minor": 2
}
