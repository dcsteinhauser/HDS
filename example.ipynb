{
 "cells": [
  {
   "cell_type": "code",
   "execution_count": 1,
   "metadata": {},
   "outputs": [
    {
     "name": "stderr",
     "output_type": "stream",
     "text": [
      "WARNING:absl:Tensorflow library not found, tensorflow.io.gfile operations will use native shim calls. GCS paths (i.e. 'gs://...') cannot be accessed.\n"
     ]
    }
   ],
   "source": [
    "import os\n",
    "import jax\n",
    "import html\n",
    "import numpy as np\n",
    "from jax import numpy as jp\n",
    "import matplotlib.pyplot as plt\n",
    "\n",
    "jax.config.update(\"jax_debug_nans\", False)\n",
    "jax.config.update(\"jax_enable_x64\", True)\n",
    "\n",
    "from IPython.display import HTML, clear_output, display\n",
    "from brax.io import html\n",
    "\n",
    "from src.pods.Pods import train as train_pods\n",
    "from src.hds.Hds import train as train_hds\n",
    "from src.envs.train import Pendulum \n",
    "from src.envs.realistic import RealisticPendulum "
   ]
  },
  {
   "cell_type": "code",
   "execution_count": null,
   "metadata": {},
   "outputs": [],
   "source": [
    "from jax.lib import xla_bridge\n",
    "print(xla_bridge.get_backend().platform)\n",
    "print(jax.devices())"
   ]
  },
  {
   "cell_type": "code",
   "execution_count": null,
   "metadata": {},
   "outputs": [],
   "source": [
    "# Initialize the train environment\n",
    "env = Pendulum.Pendulum()\n",
    "\n",
    "# Render an initial state of the environment\n",
    "state = jax.jit(env.reset)(rng=jax.random.PRNGKey(seed=0))\n",
    "HTML(html.render(env.sys, [state.pipeline_state]))"
   ]
  },
  {
   "cell_type": "code",
   "execution_count": null,
   "metadata": {},
   "outputs": [],
   "source": [
    "# Define a progress function which can be passed to either the PODS or HDS training functions\n",
    "def progress_f(x_data,y_data,epoch,reward):\n",
    "    print(reward)\n",
    "    x_data.append(epoch)\n",
    "    y_data.append(reward)\n",
    "    clear_output(wait=True)\n",
    "    plt.xlabel('Epoch')\n",
    "    plt.ylabel('Total Reward')\n",
    "    plt.plot(x_data, y_data)\n",
    "    plt.show()"
   ]
  },
  {
   "cell_type": "code",
   "execution_count": null,
   "metadata": {},
   "outputs": [],
   "source": [
    "policy_pods = train_pods(env,trajectory_length=100 ,num_samples=50,epochs=30, inner_epochs=20, alpha_a=2e-4, init_learning_rate=1e-3, progress_fn=progress_f)"
   ]
  },
  {
   "cell_type": "code",
   "execution_count": null,
   "metadata": {},
   "outputs": [],
   "source": [
    "policy_hds = train_hds(env,trajectory_length=100 ,num_samples=50,epochs=30, inner_epochs=20, alpha_a=2e-5, aggregation_factor_beta=0.2, init_learning_rate=1e-3, init_noise=0.0, noise_decay=0.5, progress_fn=progress_f) "
   ]
  },
  {
   "cell_type": "code",
   "execution_count": null,
   "metadata": {},
   "outputs": [],
   "source": [
    "realistic_env = RealisticPendulum.RealisticPendulum()\n",
    "# inference_fn_hds = policy_hds()\n",
    "inference_fn_pods = policy_pods()\n",
    "inference_fn_hds = policy_hds()\n",
    "\n",
    "@partial(jax.vmap, in_axes=(None, None, None, 0), axis_name=\"batch\")\n",
    "def rollout_policy(\n",
    "        env, inference_fn, trajectory_length: int, prng_keys\n",
    "    ):\n",
    "\n",
    "    def step_trajectory(state_carry, rng_key):\n",
    "        action = inference_fn(state_carry.obs)\n",
    "        next_state = env.step(state_carry, action)\n",
    "        return next_state, (state_carry.obs, action, next_state.reward)\n",
    "\n",
    "    state = env.reset(prng_keys)\n",
    "    keys = jax.random.split(prng_keys, trajectory_length)\n",
    "    _, (states, actions, rewards_future) = jax.lax.scan(\n",
    "        step_trajectory, state, xs=keys\n",
    "    )\n",
    "\n",
    "    states = jax.numpy.reshape(\n",
    "        states, (trajectory_length, env.observation_size)\n",
    "    )\n",
    "    actions = jax.numpy.reshape(\n",
    "        actions, (trajectory_length, env.action_size)\n",
    "    )\n",
    "\n",
    "    totalreward = jp.sum(rewards_future)\n",
    "\n",
    "    return states, actions, totalreward\n",
    "\n",
    "prng_key = jax.random.PRNGKey(seed=0)\n",
    "subkeys = jax.random.split(prng_key, num=50)\n",
    "\n",
    "_, _ , rewards_original_pods  = rollout_policy(env, inference_fn_pods, 100, subkeys)\n",
    "_, _ , rewards_realistic_pods = rollout_policy(realistic_env, inference_fn_pods, 100, subkeys)\n",
    "# _, _ , rewards_hds = rollout_policy(realistic_env, inference_fn_hds, 100, subkeys)\n",
    "# _, _ , rewards_hds_train_env = rollout_policy(env, inference_fn_hds, 100, subkeys)\n",
    "\n",
    "_, _ , rewards_original_hds  = rollout_policy(env, inference_fn_hds, 100, subkeys)\n",
    "_, _ , rewards_realistic_hds = rollout_policy(realistic_env, inference_fn_hds, 100, subkeys)\n",
    "\n",
    "average_reward_original_pods = jp.mean(rewards_original_pods)\n",
    "average_reward_realistic = jp.mean(rewards_realistic_pods)\n",
    "average_reward_original_hds = jp.mean(rewards_original_hds)\n",
    "average_reward_realistic_hds = jp.mean(rewards_realistic_hds)\n",
    "\n",
    "# average_reward_hds = jp.mean(rewards_hds)\n",
    "# average_reward_hds_train_env = jp.mean(rewards_hds_train_env)"
   ]
  },
  {
   "cell_type": "code",
   "execution_count": null,
   "metadata": {},
   "outputs": [],
   "source": [
    "print(f'PODS on real environment {jp.mean(jp.array(average_reward_realistic))}')\n",
    "print(f'PODS on train environment {jp.mean(jp.array(average_reward_original_pods))}')\n",
    "print(f'HDS on real environment {jp.mean(jp.array(average_reward_realistic_hds))}')\n",
    "print(f'HDS on train environment {jp.mean(jp.array(average_reward_original_hds))}')\n",
    "# print(f'HDS on real environment {jp.mean(jp.array(average_reward_hds))}')\n",
    "# print(f'HDS on train environment {jp.mean(jp.array(average_reward_hds_train_env))}')"
   ]
  },
  {
   "cell_type": "code",
   "execution_count": null,
   "metadata": {},
   "outputs": [],
   "source": [
    "def run_over_aggregation_factor(aggregation_factor_beta):\n",
    "    policy = train_hds(env,trajectory_length=100 ,num_samples=50,epochs=20, inner_epochs=20, alpha_a=2e-5, aggregation_factor_beta=aggregation_factor_beta,\n",
    "                       init_learning_rate=1e-3, init_noise=0.0, noise_decay=0.0, progress_fn=progress_f) \n",
    "    inference_fn = policy()\n",
    "    \n",
    "    prng_key = jax.random.PRNGKey(seed=0)\n",
    "    subkeys = jax.random.split(prng_key, num=50)\n",
    "    _, _ , rewards_hds_real_env  = rollout_policy(realistic_env, inference_fn, 100, subkeys)\n",
    "    average_reward_hds_real_env = jp.mean(rewards_hds_real_env)\n",
    "    print(aggregation_factor_beta)\n",
    "    del policy\n",
    "    del inference_fn\n",
    "    return average_reward_hds_real_env\n",
    "\n",
    "aggregation_factors = np.linspace(0.0,0.3,5)\n",
    "\n",
    "rewards_dep_aggregation_factor = [run_over_aggregation_factor(x) for x in aggregation_factors]\n",
    "rewards_pods_real_env = [average_reward_realistic for _ in aggregation_factors]\n",
    "rewards_pods_train_env = [average_reward_original_pods for _ in aggregation_factors]\n",
    "\n",
    "plt.figure(figsize=(10, 6))\n",
    "clear_output(wait=True)\n",
    "plt.plot(aggregation_factors, rewards_dep_aggregation_factor, label='HDS on Real Environment (Ours)', color='green')\n",
    "plt.plot(aggregation_factors, rewards_pods_real_env, label='PODS on Real Environment, Mean', color='red')\n",
    "plt.plot(aggregation_factors, rewards_pods_train_env, label='PODS on Train Environment, Mean', color='blue')\n",
    "plt.legend()\n",
    "plt.xlabel('Aggregation Factor')\n",
    "plt.ylabel('Total Reward')\n",
    "plt.title('Total Reward across Aggregation Factors')\n",
    "plt.grid(True)\n",
    "plt.show()\n",
    "\n"
   ]
  },
  {
   "cell_type": "code",
   "execution_count": null,
   "metadata": {},
   "outputs": [],
   "source": [
    "f = open(\"reward.txt\", \"w\")\n",
    "g = open(\"actions.txt\", \"w\")\n",
    "inference_fn = policy_hds()\n",
    "rollout = []\n",
    "rng = jax.random.PRNGKey(seed=1)\n",
    "state = env.reset(rng=rng)\n",
    "reward = []\n",
    "actions = []\n",
    "for _ in range(1000):\n",
    "  rollout.append(state.pipeline_state)\n",
    "  act_rng, rng = jax.random.split(rng)\n",
    "  act = inference_fn(state.obs)\n",
    "  reward.append(state.reward)\n",
    "  state = env.step(state, act)\n",
    "  actions.append(act)\n",
    "\n",
    "print(reward, file=f)\n",
    "print(actions, file=g)"
   ]
  },
  {
   "cell_type": "code",
   "execution_count": null,
   "metadata": {},
   "outputs": [],
   "source": [
    "\n",
    "yes=html.render(env.sys.replace(), rollout)\n",
    "with open(\"data.html\", \"w\") as file:\n",
    "    file.write(yes)"
   ]
  }
 ],
 "metadata": {
  "kernelspec": {
   "display_name": "RLandML",
   "language": "python",
   "name": "python3"
  },
  "language_info": {
   "codemirror_mode": {
    "name": "ipython",
    "version": 3
   },
   "file_extension": ".py",
   "mimetype": "text/x-python",
   "name": "python",
   "nbconvert_exporter": "python",
   "pygments_lexer": "ipython3",
   "version": "3.10.14"
  }
 },
 "nbformat": 4,
 "nbformat_minor": 2
}
